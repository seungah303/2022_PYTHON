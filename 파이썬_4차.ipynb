{
  "nbformat": 4,
  "nbformat_minor": 0,
  "metadata": {
    "colab": {
      "name": "파이썬 4차.ipynb",
      "provenance": [],
      "collapsed_sections": [],
      "mount_file_id": "1FsPCx4mcwgTNQOSjH-MXGAlSxVAb1aOH",
      "authorship_tag": "ABX9TyO08IrrLyz4bK5gK5yOJrYd",
      "include_colab_link": true
    },
    "kernelspec": {
      "name": "python3",
      "display_name": "Python 3"
    },
    "language_info": {
      "name": "python"
    }
  },
  "cells": [
    {
      "cell_type": "markdown",
      "metadata": {
        "id": "view-in-github",
        "colab_type": "text"
      },
      "source": [
        "<a href=\"https://colab.research.google.com/github/seungah303/2022_PYTHON/blob/main/%ED%8C%8C%EC%9D%B4%EC%8D%AC_4%EC%B0%A8.ipynb\" target=\"_parent\"><img src=\"https://colab.research.google.com/assets/colab-badge.svg\" alt=\"Open In Colab\"/></a>"
      ]
    },
    {
      "cell_type": "markdown",
      "source": [
        "#문자열"
      ],
      "metadata": {
        "id": "tcghUaS56jdP"
      }
    },
    {
      "cell_type": "markdown",
      "source": [
        "- 문자열 역시 list, tuple과 마찬가지로 sequence 형 자료구조를 가진다.<br>\n",
        "- 불변 객체이다."
      ],
      "metadata": {
        "id": "FeHJnsfH6z3k"
      }
    },
    {
      "cell_type": "markdown",
      "source": [
        "##문자열 생성"
      ],
      "metadata": {
        "id": "Eu9h9XGP7P2_"
      }
    },
    {
      "cell_type": "markdown",
      "source": [
        "- 파이썬의 문자열은 ', \" 구분없이 사용하여 문자열을 생성할 수 있다"
      ],
      "metadata": {
        "id": "UwhcA-cA7T-M"
      }
    },
    {
      "cell_type": "markdown",
      "source": [
        "' 사용"
      ],
      "metadata": {
        "id": "vdJYxGr57a0W"
      }
    },
    {
      "cell_type": "code",
      "execution_count": 250,
      "metadata": {
        "colab": {
          "base_uri": "https://localhost:8080/",
          "height": 36
        },
        "id": "-vtAwlpd5Z_e",
        "outputId": "19ba6717-bace-4ebe-f6ce-3a74538188ca"
      },
      "outputs": [
        {
          "output_type": "execute_result",
          "data": {
            "text/plain": [
              "'hi hello.'"
            ],
            "application/vnd.google.colaboratory.intrinsic+json": {
              "type": "string"
            }
          },
          "metadata": {},
          "execution_count": 250
        }
      ],
      "source": [
        "'hi hello.'"
      ]
    },
    {
      "cell_type": "markdown",
      "source": [
        "\" 사용"
      ],
      "metadata": {
        "id": "fcooCO3X7k21"
      }
    },
    {
      "cell_type": "code",
      "source": [
        "'hi hello.'"
      ],
      "metadata": {
        "colab": {
          "base_uri": "https://localhost:8080/",
          "height": 36
        },
        "id": "rr0p_m2M7n1r",
        "outputId": "2aa3fc5d-4a5c-4c72-d1ef-b20adf58ca2a"
      },
      "execution_count": 251,
      "outputs": [
        {
          "output_type": "execute_result",
          "data": {
            "text/plain": [
              "'hi hello.'"
            ],
            "application/vnd.google.colaboratory.intrinsic+json": {
              "type": "string"
            }
          },
          "metadata": {},
          "execution_count": 251
        }
      ]
    },
    {
      "cell_type": "markdown",
      "source": [
        "여러 줄의 문자열을 생성"
      ],
      "metadata": {
        "id": "v4fWkRl-7u9e"
      }
    },
    {
      "cell_type": "markdown",
      "source": [
        "''' 사용"
      ],
      "metadata": {
        "id": "8ivOPRhK7wmz"
      }
    },
    {
      "cell_type": "code",
      "source": [
        "A = '''hi\n",
        "hello\n",
        "안녕'''\n",
        "\n",
        "print(A)"
      ],
      "metadata": {
        "colab": {
          "base_uri": "https://localhost:8080/"
        },
        "id": "RoVbleVo7y96",
        "outputId": "08391374-e3ab-4d29-c723-af6725a00b69"
      },
      "execution_count": 252,
      "outputs": [
        {
          "output_type": "stream",
          "name": "stdout",
          "text": [
            "hi\n",
            "hello\n",
            "안녕\n"
          ]
        }
      ]
    },
    {
      "cell_type": "markdown",
      "source": [
        "\"\"\"사용"
      ],
      "metadata": {
        "id": "zkynX86h8quo"
      }
    },
    {
      "cell_type": "code",
      "source": [
        "B=\"\"\"hi\n",
        "hello\n",
        "안녕\"\"\"\n",
        "\n",
        "print(B)"
      ],
      "metadata": {
        "colab": {
          "base_uri": "https://localhost:8080/"
        },
        "id": "A-hxCf8Y8uU2",
        "outputId": "fe6c3a9f-38ec-435f-c1b8-31c0e942e0aa"
      },
      "execution_count": 253,
      "outputs": [
        {
          "output_type": "stream",
          "name": "stdout",
          "text": [
            "hi\n",
            "hello\n",
            "안녕\n"
          ]
        }
      ]
    },
    {
      "cell_type": "markdown",
      "source": [
        "##문자열 출력 (포맷팅)"
      ],
      "metadata": {
        "id": "11h3ni8r86Lc"
      }
    },
    {
      "cell_type": "markdown",
      "source": [
        "###print()\n",
        "  - 출력\n",
        "\n"
      ],
      "metadata": {
        "id": "6aOE2Mx69BMU"
      }
    },
    {
      "cell_type": "code",
      "source": [
        "print('hi python')"
      ],
      "metadata": {
        "colab": {
          "base_uri": "https://localhost:8080/"
        },
        "id": "G09jonld9PbU",
        "outputId": "459f76f7-5fff-463a-c9bd-3bcd9c9c5581"
      },
      "execution_count": 254,
      "outputs": [
        {
          "output_type": "stream",
          "name": "stdout",
          "text": [
            "hi python\n"
          ]
        }
      ]
    },
    {
      "cell_type": "code",
      "source": [
        "print('문자열 1', '그리고 2')"
      ],
      "metadata": {
        "colab": {
          "base_uri": "https://localhost:8080/"
        },
        "id": "4zp69-gX9YiL",
        "outputId": "0d9770ae-845d-4ef7-f05e-9a7085ae6bea"
      },
      "execution_count": 255,
      "outputs": [
        {
          "output_type": "stream",
          "name": "stdout",
          "text": [
            "문자열 1 그리고 2\n"
          ]
        }
      ]
    },
    {
      "cell_type": "markdown",
      "source": [
        "end 옵션으로 출력될 마지막 글자를 변경할 수 있다."
      ],
      "metadata": {
        "id": "uuFry7up9HSm"
      }
    },
    {
      "cell_type": "code",
      "source": [
        "print('여기까지 ', end='end출력')"
      ],
      "metadata": {
        "colab": {
          "base_uri": "https://localhost:8080/"
        },
        "id": "hbJQa_O8-AtB",
        "outputId": "1b0405a6-c67f-433b-c945-e8d0e463b2d5"
      },
      "execution_count": 256,
      "outputs": [
        {
          "output_type": "stream",
          "name": "stdout",
          "text": [
            "여기까지 end출력"
          ]
        }
      ]
    },
    {
      "cell_type": "markdown",
      "source": [
        "sep 옵션으로 출력될 문자열 사이의 글자를 변경할 수 있음. (기본값: 공백)"
      ],
      "metadata": {
        "id": "uzsGw85B-KEL"
      }
    },
    {
      "cell_type": "code",
      "source": [
        "print('문자1', '문자1', '문자3', sep=' <구분> ')"
      ],
      "metadata": {
        "colab": {
          "base_uri": "https://localhost:8080/"
        },
        "id": "GawDHiIv-Oe9",
        "outputId": "969ce97f-db8e-4422-dd39-c98c841c554c"
      },
      "execution_count": 257,
      "outputs": [
        {
          "output_type": "stream",
          "name": "stdout",
          "text": [
            "문자1 <구분> 문자1 <구분> 문자3\n"
          ]
        }
      ]
    },
    {
      "cell_type": "markdown",
      "source": [
        "###%를 사용한 출력\n"
      ],
      "metadata": {
        "id": "DQUXujji-Ug9"
      }
    },
    {
      "cell_type": "markdown",
      "source": [
        "- %s : 문자열\n",
        "- %d : 정수\n",
        "- %f: 실수\n",
        "- %c: 문자 하나"
      ],
      "metadata": {
        "id": "PMmm4A6W_EyQ"
      }
    },
    {
      "cell_type": "markdown",
      "source": [
        "%s"
      ],
      "metadata": {
        "id": "ECslb4f2_4r0"
      }
    },
    {
      "cell_type": "code",
      "source": [
        "\"안녕하세요 %s\" % ('반갑습니다.')"
      ],
      "metadata": {
        "colab": {
          "base_uri": "https://localhost:8080/",
          "height": 36
        },
        "id": "REofiCAw-fYo",
        "outputId": "87806fbd-ffcf-4627-ecf8-7ded29aa0168"
      },
      "execution_count": 258,
      "outputs": [
        {
          "output_type": "execute_result",
          "data": {
            "text/plain": [
              "'안녕하세요 반갑습니다.'"
            ],
            "application/vnd.google.colaboratory.intrinsic+json": {
              "type": "string"
            }
          },
          "metadata": {},
          "execution_count": 258
        }
      ]
    },
    {
      "cell_type": "markdown",
      "source": [
        "%d"
      ],
      "metadata": {
        "id": "ltBs5pb8_6jj"
      }
    },
    {
      "cell_type": "code",
      "source": [
        "'안녕하세요 %d' % (12345)"
      ],
      "metadata": {
        "colab": {
          "base_uri": "https://localhost:8080/",
          "height": 36
        },
        "id": "LQn8ZcTX_-iH",
        "outputId": "781bd847-ff4d-4679-900e-bbd9ee69e901"
      },
      "execution_count": 259,
      "outputs": [
        {
          "output_type": "execute_result",
          "data": {
            "text/plain": [
              "'안녕하세요 12345'"
            ],
            "application/vnd.google.colaboratory.intrinsic+json": {
              "type": "string"
            }
          },
          "metadata": {},
          "execution_count": 259
        }
      ]
    },
    {
      "cell_type": "markdown",
      "source": [
        "%f"
      ],
      "metadata": {
        "id": "umivKzxE_7zP"
      }
    },
    {
      "cell_type": "code",
      "source": [
        "'안녕하세요 %.3f' % (0.123456)"
      ],
      "metadata": {
        "colab": {
          "base_uri": "https://localhost:8080/",
          "height": 36
        },
        "id": "6Ppw6Lu0ABfy",
        "outputId": "5c16f95e-4657-47a7-e76c-8ffa820af74c"
      },
      "execution_count": 260,
      "outputs": [
        {
          "output_type": "execute_result",
          "data": {
            "text/plain": [
              "'안녕하세요 0.123'"
            ],
            "application/vnd.google.colaboratory.intrinsic+json": {
              "type": "string"
            }
          },
          "metadata": {},
          "execution_count": 260
        }
      ]
    },
    {
      "cell_type": "markdown",
      "source": [
        "%c"
      ],
      "metadata": {
        "id": "8NCBMPvm_8wS"
      }
    },
    {
      "cell_type": "code",
      "source": [
        "'안녕하세요 %c' % ('a')"
      ],
      "metadata": {
        "colab": {
          "base_uri": "https://localhost:8080/",
          "height": 36
        },
        "id": "gyEzv3odAIEz",
        "outputId": "e4e31cd4-3727-4391-85c5-500a30c3ca51"
      },
      "execution_count": 261,
      "outputs": [
        {
          "output_type": "execute_result",
          "data": {
            "text/plain": [
              "'안녕하세요 a'"
            ],
            "application/vnd.google.colaboratory.intrinsic+json": {
              "type": "string"
            }
          },
          "metadata": {},
          "execution_count": 261
        }
      ]
    },
    {
      "cell_type": "markdown",
      "source": [
        "###{} 와 format를 사용한 출력"
      ],
      "metadata": {
        "id": "P70Rc7oDAY9L"
      }
    },
    {
      "cell_type": "code",
      "source": [
        "'hi {}'.format('파이썬.')"
      ],
      "metadata": {
        "colab": {
          "base_uri": "https://localhost:8080/",
          "height": 36
        },
        "id": "yDF4_t54Aba5",
        "outputId": "30c08045-5f2c-4798-c984-6c680a600d05"
      },
      "execution_count": 262,
      "outputs": [
        {
          "output_type": "execute_result",
          "data": {
            "text/plain": [
              "'hi 파이썬.'"
            ],
            "application/vnd.google.colaboratory.intrinsic+json": {
              "type": "string"
            }
          },
          "metadata": {},
          "execution_count": 262
        }
      ]
    },
    {
      "cell_type": "markdown",
      "source": [
        "소수점 2자리 까지 제한하는 경우 (그 이하자리는 반올림)"
      ],
      "metadata": {
        "id": "JbzoKW6cAhLG"
      }
    },
    {
      "cell_type": "code",
      "source": [
        "'원수율 {:.2f}'.format(3.141592)"
      ],
      "metadata": {
        "colab": {
          "base_uri": "https://localhost:8080/",
          "height": 36
        },
        "id": "z-wnKfM_Ak-6",
        "outputId": "f5ef53af-8e01-4e05-b938-d044ba986286"
      },
      "execution_count": 263,
      "outputs": [
        {
          "output_type": "execute_result",
          "data": {
            "text/plain": [
              "'원수율 3.14'"
            ],
            "application/vnd.google.colaboratory.intrinsic+json": {
              "type": "string"
            }
          },
          "metadata": {},
          "execution_count": 263
        }
      ]
    },
    {
      "cell_type": "markdown",
      "source": [
        "###f 문자열 포맷팅"
      ],
      "metadata": {
        "id": "c_9N6fO_An8E"
      }
    },
    {
      "cell_type": "code",
      "source": [
        "name = '승아'\n",
        "age = 17\n",
        "print(f'나의 이름은 {name}입니다. 나이는 {age} 살입니다.')"
      ],
      "metadata": {
        "colab": {
          "base_uri": "https://localhost:8080/"
        },
        "id": "f6EYyig6A0lq",
        "outputId": "41f3d033-3ec0-4bc4-fc7b-e561b15e84be"
      },
      "execution_count": 264,
      "outputs": [
        {
          "output_type": "stream",
          "name": "stdout",
          "text": [
            "나의 이름은 승아입니다. 나이는 17 살입니다.\n"
          ]
        }
      ]
    },
    {
      "cell_type": "code",
      "source": [
        "print(f'내년에 저는 {age+1} 살입니다.')"
      ],
      "metadata": {
        "colab": {
          "base_uri": "https://localhost:8080/"
        },
        "id": "Zt11rl7ZBFA1",
        "outputId": "5b62486e-8576-4361-e4d9-865684d28c14"
      },
      "execution_count": 265,
      "outputs": [
        {
          "output_type": "stream",
          "name": "stdout",
          "text": [
            "내년에 저는 18 살입니다.\n"
          ]
        }
      ]
    },
    {
      "cell_type": "markdown",
      "source": [
        "##문자열 길이"
      ],
      "metadata": {
        "id": "-lNLUgmRAz8h"
      }
    },
    {
      "cell_type": "markdown",
      "source": [
        "- len()"
      ],
      "metadata": {
        "id": "Tt18RaekBQ2V"
      }
    },
    {
      "cell_type": "code",
      "source": [
        "len('apple')"
      ],
      "metadata": {
        "colab": {
          "base_uri": "https://localhost:8080/"
        },
        "id": "Aj0q71KlBTfD",
        "outputId": "77748321-6b76-4e4e-bc05-d30ccdc92bbb"
      },
      "execution_count": 266,
      "outputs": [
        {
          "output_type": "execute_result",
          "data": {
            "text/plain": [
              "5"
            ]
          },
          "metadata": {},
          "execution_count": 266
        }
      ]
    },
    {
      "cell_type": "markdown",
      "source": [
        "공백은 길이에 포함"
      ],
      "metadata": {
        "id": "hYQOy2-6BaDz"
      }
    },
    {
      "cell_type": "code",
      "source": [
        "len('pine apple pen')"
      ],
      "metadata": {
        "colab": {
          "base_uri": "https://localhost:8080/"
        },
        "id": "A8msMjvCBXDP",
        "outputId": "e0bdd24c-c81a-4f22-c5e7-f03062e0b5b4"
      },
      "execution_count": 267,
      "outputs": [
        {
          "output_type": "execute_result",
          "data": {
            "text/plain": [
              "14"
            ]
          },
          "metadata": {},
          "execution_count": 267
        }
      ]
    },
    {
      "cell_type": "code",
      "source": [
        "len('한글')"
      ],
      "metadata": {
        "colab": {
          "base_uri": "https://localhost:8080/"
        },
        "id": "2Ch7f04aBawp",
        "outputId": "ad6433a8-2abc-492a-8b78-84420ea7d8e8"
      },
      "execution_count": 268,
      "outputs": [
        {
          "output_type": "execute_result",
          "data": {
            "text/plain": [
              "2"
            ]
          },
          "metadata": {},
          "execution_count": 268
        }
      ]
    },
    {
      "cell_type": "markdown",
      "source": [
        "##indexing"
      ],
      "metadata": {
        "id": "Diq7GuxNBikg"
      }
    },
    {
      "cell_type": "markdown",
      "source": [
        "- []를 활용한 인덱싱으로 조회가능"
      ],
      "metadata": {
        "id": "B9-Bg7e4BnF0"
      }
    },
    {
      "cell_type": "code",
      "source": [
        "a = 'Python is my life'\n",
        "a"
      ],
      "metadata": {
        "colab": {
          "base_uri": "https://localhost:8080/",
          "height": 36
        },
        "id": "ofhMZWg3Br7Y",
        "outputId": "bbb7dbf8-9042-4973-dda3-d0293ca6404d"
      },
      "execution_count": 269,
      "outputs": [
        {
          "output_type": "execute_result",
          "data": {
            "text/plain": [
              "'Python is my life'"
            ],
            "application/vnd.google.colaboratory.intrinsic+json": {
              "type": "string"
            }
          },
          "metadata": {},
          "execution_count": 269
        }
      ]
    },
    {
      "cell_type": "markdown",
      "source": [
        "![index.png](data:image/png;base64,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)"
      ],
      "metadata": {
        "id": "DpzaGs9xbEdG"
      }
    },
    {
      "cell_type": "code",
      "source": [
        "a[3]"
      ],
      "metadata": {
        "colab": {
          "base_uri": "https://localhost:8080/",
          "height": 36
        },
        "id": "08lUzYR1VJn3",
        "outputId": "33705904-70fb-4551-d4f9-6a0d083f8de8"
      },
      "execution_count": 270,
      "outputs": [
        {
          "output_type": "execute_result",
          "data": {
            "text/plain": [
              "'h'"
            ],
            "application/vnd.google.colaboratory.intrinsic+json": {
              "type": "string"
            }
          },
          "metadata": {},
          "execution_count": 270
        }
      ]
    },
    {
      "cell_type": "code",
      "source": [
        "a[-2]"
      ],
      "metadata": {
        "colab": {
          "base_uri": "https://localhost:8080/",
          "height": 36
        },
        "id": "gy0EJ5-DVL_E",
        "outputId": "033ade14-72dd-484c-e88f-fb61051d2749"
      },
      "execution_count": 271,
      "outputs": [
        {
          "output_type": "execute_result",
          "data": {
            "text/plain": [
              "'f'"
            ],
            "application/vnd.google.colaboratory.intrinsic+json": {
              "type": "string"
            }
          },
          "metadata": {},
          "execution_count": 271
        }
      ]
    },
    {
      "cell_type": "markdown",
      "source": [
        "##Slicing\n",
        "\n",
        "*  [start:stop:step] 을 명시하여 부분을 추출한다.\n",
        "\n"
      ],
      "metadata": {
        "id": "DdhrRe-ZbPgU"
      }
    },
    {
      "cell_type": "markdown",
      "source": [
        "[:]을 사용하여 전체를 추출"
      ],
      "metadata": {
        "id": "OVZ32p8-bhJ4"
      }
    },
    {
      "cell_type": "code",
      "source": [
        "a = 'Python is my life'\n",
        "a"
      ],
      "metadata": {
        "colab": {
          "base_uri": "https://localhost:8080/",
          "height": 36
        },
        "id": "kr8BXrfZbpPp",
        "outputId": "7c5c98c0-1328-4cf1-809e-15e8b589961c"
      },
      "execution_count": 272,
      "outputs": [
        {
          "output_type": "execute_result",
          "data": {
            "text/plain": [
              "'Python is my life'"
            ],
            "application/vnd.google.colaboratory.intrinsic+json": {
              "type": "string"
            }
          },
          "metadata": {},
          "execution_count": 272
        }
      ]
    },
    {
      "cell_type": "markdown",
      "source": [
        "![index.png](data:image/png;base64,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)"
      ],
      "metadata": {
        "id": "2O-NzPbWbsdr"
      }
    },
    {
      "cell_type": "code",
      "source": [
        "a[:]"
      ],
      "metadata": {
        "colab": {
          "base_uri": "https://localhost:8080/",
          "height": 36
        },
        "id": "62SbzBNobR2L",
        "outputId": "e77db7fb-9ee5-464d-80c3-090af0e03819"
      },
      "execution_count": 273,
      "outputs": [
        {
          "output_type": "execute_result",
          "data": {
            "text/plain": [
              "'Python is my life'"
            ],
            "application/vnd.google.colaboratory.intrinsic+json": {
              "type": "string"
            }
          },
          "metadata": {},
          "execution_count": 273
        }
      ]
    },
    {
      "cell_type": "markdown",
      "source": [
        "[start:]는 시작 index 부터 끝까지 추출"
      ],
      "metadata": {
        "id": "VauJWtZib1P2"
      }
    },
    {
      "cell_type": "code",
      "source": [
        "a[3:]"
      ],
      "metadata": {
        "colab": {
          "base_uri": "https://localhost:8080/",
          "height": 36
        },
        "id": "Ebh4L0WGb185",
        "outputId": "fac23511-9f74-4eb9-e477-c86d32de74d0"
      },
      "execution_count": 274,
      "outputs": [
        {
          "output_type": "execute_result",
          "data": {
            "text/plain": [
              "'hon is my life'"
            ],
            "application/vnd.google.colaboratory.intrinsic+json": {
              "type": "string"
            }
          },
          "metadata": {},
          "execution_count": 274
        }
      ]
    },
    {
      "cell_type": "code",
      "source": [
        "a[-4:]"
      ],
      "metadata": {
        "colab": {
          "base_uri": "https://localhost:8080/",
          "height": 36
        },
        "id": "kCHyMDQAb4Lo",
        "outputId": "de5c1b47-e511-4e69-b49a-57105d20d0e4"
      },
      "execution_count": 275,
      "outputs": [
        {
          "output_type": "execute_result",
          "data": {
            "text/plain": [
              "'life'"
            ],
            "application/vnd.google.colaboratory.intrinsic+json": {
              "type": "string"
            }
          },
          "metadata": {},
          "execution_count": 275
        }
      ]
    },
    {
      "cell_type": "markdown",
      "source": [
        "[:end]는 처음부터 end 전까지 추출"
      ],
      "metadata": {
        "id": "nBtECurIb7mZ"
      }
    },
    {
      "cell_type": "code",
      "source": [
        "a[:5]"
      ],
      "metadata": {
        "colab": {
          "base_uri": "https://localhost:8080/",
          "height": 36
        },
        "id": "Qwv1OmDCb8Ri",
        "outputId": "bd2e12e9-c6f1-40c7-9f4f-137c9062e94e"
      },
      "execution_count": 276,
      "outputs": [
        {
          "output_type": "execute_result",
          "data": {
            "text/plain": [
              "'Pytho'"
            ],
            "application/vnd.google.colaboratory.intrinsic+json": {
              "type": "string"
            }
          },
          "metadata": {},
          "execution_count": 276
        }
      ]
    },
    {
      "cell_type": "code",
      "source": [
        "a[:-4]"
      ],
      "metadata": {
        "colab": {
          "base_uri": "https://localhost:8080/",
          "height": 36
        },
        "id": "XcIoLXgMb-rM",
        "outputId": "dcb1ec74-a5b9-4954-a5d2-996983f8de09"
      },
      "execution_count": 277,
      "outputs": [
        {
          "output_type": "execute_result",
          "data": {
            "text/plain": [
              "'Python is my '"
            ],
            "application/vnd.google.colaboratory.intrinsic+json": {
              "type": "string"
            }
          },
          "metadata": {},
          "execution_count": 277
        }
      ]
    },
    {
      "cell_type": "markdown",
      "source": [
        "[start:end]는 start부터 end 전까지 추출"
      ],
      "metadata": {
        "id": "0Gp2Y8RscBaa"
      }
    },
    {
      "cell_type": "code",
      "source": [
        "a[1:5]"
      ],
      "metadata": {
        "colab": {
          "base_uri": "https://localhost:8080/",
          "height": 36
        },
        "id": "0zCpcxY_cAvK",
        "outputId": "e3792484-9bf3-489e-8ee7-766bafa776b2"
      },
      "execution_count": 278,
      "outputs": [
        {
          "output_type": "execute_result",
          "data": {
            "text/plain": [
              "'ytho'"
            ],
            "application/vnd.google.colaboratory.intrinsic+json": {
              "type": "string"
            }
          },
          "metadata": {},
          "execution_count": 278
        }
      ]
    },
    {
      "cell_type": "markdown",
      "source": [
        "[start:stop:step]에서 step 지정시 step만큼 건너 뛰면서 추출"
      ],
      "metadata": {
        "id": "oxVMBYDDcJUm"
      }
    },
    {
      "cell_type": "code",
      "source": [
        "a[::2]"
      ],
      "metadata": {
        "colab": {
          "base_uri": "https://localhost:8080/",
          "height": 36
        },
        "id": "LfHQbz2vcI1-",
        "outputId": "62989c6a-fec8-471a-a310-3d55725ed95a"
      },
      "execution_count": 279,
      "outputs": [
        {
          "output_type": "execute_result",
          "data": {
            "text/plain": [
              "'Pto sm ie'"
            ],
            "application/vnd.google.colaboratory.intrinsic+json": {
              "type": "string"
            }
          },
          "metadata": {},
          "execution_count": 279
        }
      ]
    },
    {
      "cell_type": "markdown",
      "source": [
        "- 처음부터 2씩 건너 뛰면서 추출"
      ],
      "metadata": {
        "id": "FC5g9D8hcVBC"
      }
    },
    {
      "cell_type": "markdown",
      "source": [
        "step을 -1로 설정하면 역순"
      ],
      "metadata": {
        "id": "zmoM19euciJY"
      }
    },
    {
      "cell_type": "code",
      "source": [
        "a[::-1]"
      ],
      "metadata": {
        "colab": {
          "base_uri": "https://localhost:8080/",
          "height": 36
        },
        "id": "Q9MGeDUwchpq",
        "outputId": "a8bf193a-c9b7-441e-fdd9-e43e787204d3"
      },
      "execution_count": 280,
      "outputs": [
        {
          "output_type": "execute_result",
          "data": {
            "text/plain": [
              "'efil ym si nohtyP'"
            ],
            "application/vnd.google.colaboratory.intrinsic+json": {
              "type": "string"
            }
          },
          "metadata": {},
          "execution_count": 280
        }
      ]
    },
    {
      "cell_type": "markdown",
      "source": [
        "##불변(immutable)\n",
        "\n",
        "- 문자열은 index를 통해 값을 수정 및 변경이 불가\n",
        "- 메서드로 변경가능"
      ],
      "metadata": {
        "id": "Dbjms1yncqyh"
      }
    },
    {
      "cell_type": "code",
      "source": [
        "a = 'Python is my life'"
      ],
      "metadata": {
        "id": "hRMK6TQ5c65W"
      },
      "execution_count": 281,
      "outputs": []
    },
    {
      "cell_type": "markdown",
      "source": [
        "index에 값을 할당하여 변경할 경우\n",
        "(error)"
      ],
      "metadata": {
        "id": "-Hu6yVukc8iz"
      }
    },
    {
      "cell_type": "code",
      "source": [
        "a[2] = 'Y'"
      ],
      "metadata": {
        "colab": {
          "base_uri": "https://localhost:8080/",
          "height": 176
        },
        "id": "8j3rLw3ydAD0",
        "outputId": "0d1ec0f2-075e-456b-e6af-d2824c3abc70"
      },
      "execution_count": 282,
      "outputs": [
        {
          "output_type": "error",
          "ename": "TypeError",
          "evalue": "ignored",
          "traceback": [
            "\u001b[0;31m---------------------------------------------------------------------------\u001b[0m",
            "\u001b[0;31mTypeError\u001b[0m                                 Traceback (most recent call last)",
            "\u001b[0;32m<ipython-input-282-f2db0e8f1888>\u001b[0m in \u001b[0;36m<module>\u001b[0;34m\u001b[0m\n\u001b[0;32m----> 1\u001b[0;31m \u001b[0ma\u001b[0m\u001b[0;34m[\u001b[0m\u001b[0;36m2\u001b[0m\u001b[0;34m]\u001b[0m \u001b[0;34m=\u001b[0m \u001b[0;34m'Y'\u001b[0m\u001b[0;34m\u001b[0m\u001b[0;34m\u001b[0m\u001b[0m\n\u001b[0m",
            "\u001b[0;31mTypeError\u001b[0m: 'str' object does not support item assignment"
          ]
        }
      ]
    },
    {
      "cell_type": "markdown",
      "source": [
        "del로 부분 삭제하려는 경우\n",
        "(error)"
      ],
      "metadata": {
        "id": "yuN6_IMxdMH4"
      }
    },
    {
      "cell_type": "code",
      "source": [
        "del a[2]"
      ],
      "metadata": {
        "colab": {
          "base_uri": "https://localhost:8080/",
          "height": 176
        },
        "id": "UWd1YdeddPYo",
        "outputId": "e123ac7a-c502-4e84-c2ab-d623ae957ba6"
      },
      "execution_count": 283,
      "outputs": [
        {
          "output_type": "error",
          "ename": "TypeError",
          "evalue": "ignored",
          "traceback": [
            "\u001b[0;31m---------------------------------------------------------------------------\u001b[0m",
            "\u001b[0;31mTypeError\u001b[0m                                 Traceback (most recent call last)",
            "\u001b[0;32m<ipython-input-283-734682c6a06c>\u001b[0m in \u001b[0;36m<module>\u001b[0;34m\u001b[0m\n\u001b[0;32m----> 1\u001b[0;31m \u001b[0;32mdel\u001b[0m \u001b[0ma\u001b[0m\u001b[0;34m[\u001b[0m\u001b[0;36m2\u001b[0m\u001b[0;34m]\u001b[0m\u001b[0;34m\u001b[0m\u001b[0;34m\u001b[0m\u001b[0m\n\u001b[0m",
            "\u001b[0;31mTypeError\u001b[0m: 'str' object doesn't support item deletion"
          ]
        }
      ]
    },
    {
      "cell_type": "markdown",
      "source": [
        "##문자열의 덧셈과 곱셈"
      ],
      "metadata": {
        "id": "k50J-1XzdRL_"
      }
    },
    {
      "cell_type": "markdown",
      "source": [
        "덧셈은 문자열을 연결"
      ],
      "metadata": {
        "id": "2wHMHO00dVsT"
      }
    },
    {
      "cell_type": "code",
      "source": [
        "a = 'hi'\n",
        "b = 'hello'"
      ],
      "metadata": {
        "id": "nOSmuUKydZnl"
      },
      "execution_count": 284,
      "outputs": []
    },
    {
      "cell_type": "code",
      "source": [
        "a+b"
      ],
      "metadata": {
        "colab": {
          "base_uri": "https://localhost:8080/",
          "height": 36
        },
        "id": "41W2ks_CdfRt",
        "outputId": "0d42aeab-4fd2-481a-a6a4-2a510ebc8367"
      },
      "execution_count": 285,
      "outputs": [
        {
          "output_type": "execute_result",
          "data": {
            "text/plain": [
              "'hihello'"
            ],
            "application/vnd.google.colaboratory.intrinsic+json": {
              "type": "string"
            }
          },
          "metadata": {},
          "execution_count": 285
        }
      ]
    },
    {
      "cell_type": "markdown",
      "source": [
        "곱셈은 문자열을 반복"
      ],
      "metadata": {
        "id": "R61VjfN3dlmk"
      }
    },
    {
      "cell_type": "code",
      "source": [
        "a * 2"
      ],
      "metadata": {
        "colab": {
          "base_uri": "https://localhost:8080/",
          "height": 36
        },
        "id": "KEic0bd7drgZ",
        "outputId": "2bd9c7c3-21c6-4fec-ab8a-72e1f0d857e6"
      },
      "execution_count": 286,
      "outputs": [
        {
          "output_type": "execute_result",
          "data": {
            "text/plain": [
              "'hihi'"
            ],
            "application/vnd.google.colaboratory.intrinsic+json": {
              "type": "string"
            }
          },
          "metadata": {},
          "execution_count": 286
        }
      ]
    },
    {
      "cell_type": "code",
      "source": [
        "print('abc ' * 5)\n",
        "print('===' * 7)"
      ],
      "metadata": {
        "colab": {
          "base_uri": "https://localhost:8080/"
        },
        "id": "FtF3Zs5Odu_D",
        "outputId": "e51bfc8d-593f-443f-caa6-682a73f75e57"
      },
      "execution_count": 287,
      "outputs": [
        {
          "output_type": "stream",
          "name": "stdout",
          "text": [
            "abc abc abc abc abc \n",
            "=====================\n"
          ]
        }
      ]
    },
    {
      "cell_type": "markdown",
      "source": [
        "##문자열의 list"
      ],
      "metadata": {
        "id": "mHNei7hQeuJz"
      }
    },
    {
      "cell_type": "markdown",
      "source": [
        "- 자열을 list로 타입 변환이 가능하다.\n",
        "\n",
        "- 타입 변환시 한 글자를 요소로 갖는 리스트가 생성된다."
      ],
      "metadata": {
        "id": "kkjpmjlOeyLf"
      }
    },
    {
      "cell_type": "code",
      "source": [
        "list('ABCDE')"
      ],
      "metadata": {
        "colab": {
          "base_uri": "https://localhost:8080/"
        },
        "id": "5c5SBcvQe8mn",
        "outputId": "85a0db95-70f7-4503-9bf1-48ba9e9acab2"
      },
      "execution_count": 288,
      "outputs": [
        {
          "output_type": "execute_result",
          "data": {
            "text/plain": [
              "['A', 'B', 'C', 'D', 'E']"
            ]
          },
          "metadata": {},
          "execution_count": 288
        }
      ]
    },
    {
      "cell_type": "markdown",
      "source": [
        "##문자열의 set"
      ],
      "metadata": {
        "id": "SWv6dJCie_QZ"
      }
    },
    {
      "cell_type": "markdown",
      "source": [
        "- 한 글자를 요소로 갖는 세트가 생성됩니다.\n",
        "- 세트의 특성상 요소를 생성한 후 중복된 글자는 제거됩니다."
      ],
      "metadata": {
        "id": "Yso0z6xUfCLs"
      }
    },
    {
      "cell_type": "markdown",
      "source": [
        "-중복제거-"
      ],
      "metadata": {
        "id": "zIhL0cgrfKvG"
      }
    },
    {
      "cell_type": "code",
      "source": [
        "set('hhhhssssaaaa')"
      ],
      "metadata": {
        "colab": {
          "base_uri": "https://localhost:8080/"
        },
        "id": "k-XpEP9FfG50",
        "outputId": "48b9cc72-1063-4b34-e76d-973922b978e0"
      },
      "execution_count": 289,
      "outputs": [
        {
          "output_type": "execute_result",
          "data": {
            "text/plain": [
              "{'a', 'h', 's'}"
            ]
          },
          "metadata": {},
          "execution_count": 289
        }
      ]
    },
    {
      "cell_type": "markdown",
      "source": [
        "중복 제거 후 다시 list로 타입변환"
      ],
      "metadata": {
        "id": "5jA6USrwfTW9"
      }
    },
    {
      "cell_type": "code",
      "source": [
        "list(set('hhhhssssaaaa'))"
      ],
      "metadata": {
        "colab": {
          "base_uri": "https://localhost:8080/"
        },
        "id": "-QWWTvu1fXyV",
        "outputId": "2b49a398-0b8c-4b5d-f8c6-86790347dd13"
      },
      "execution_count": 290,
      "outputs": [
        {
          "output_type": "execute_result",
          "data": {
            "text/plain": [
              "['s', 'h', 'a']"
            ]
          },
          "metadata": {},
          "execution_count": 290
        }
      ]
    },
    {
      "cell_type": "markdown",
      "source": [
        "##mothod"
      ],
      "metadata": {
        "id": "y2iGN9cHfj0N"
      }
    },
    {
      "cell_type": "markdown",
      "source": [
        "###split()\n",
        "\n",
        "- 문장을 쪼개준다."
      ],
      "metadata": {
        "id": "cYjuxvCTfoxl"
      }
    },
    {
      "cell_type": "code",
      "source": [
        "a='lemon pen apple pen'"
      ],
      "metadata": {
        "id": "8l_2FL3OfzHp"
      },
      "execution_count": 291,
      "outputs": []
    },
    {
      "cell_type": "markdown",
      "source": [
        "- 기본 값으로 공백이 지정되어 있어 공백을 기분으로 분리한다."
      ],
      "metadata": {
        "id": "TyYo4-Jrf-pU"
      }
    },
    {
      "cell_type": "code",
      "source": [
        "a.split()"
      ],
      "metadata": {
        "colab": {
          "base_uri": "https://localhost:8080/"
        },
        "id": "1LmyOlN6gJpl",
        "outputId": "6d40aa8c-c07a-46fa-fbaf-65563d3699e6"
      },
      "execution_count": 292,
      "outputs": [
        {
          "output_type": "execute_result",
          "data": {
            "text/plain": [
              "['lemon', 'pen', 'apple', 'pen']"
            ]
          },
          "metadata": {},
          "execution_count": 292
        }
      ]
    },
    {
      "cell_type": "markdown",
      "source": [
        "공백에서 특정문자로 지정 가능하다."
      ],
      "metadata": {
        "id": "c1PvltpBfxgY"
      }
    },
    {
      "cell_type": "code",
      "source": [
        "a= 'lemon-pen-apple-pen'"
      ],
      "metadata": {
        "id": "PpsRGamOgW9-"
      },
      "execution_count": 293,
      "outputs": []
    },
    {
      "cell_type": "code",
      "source": [
        "a.split('-')"
      ],
      "metadata": {
        "colab": {
          "base_uri": "https://localhost:8080/"
        },
        "id": "FsSFOwK8gcI3",
        "outputId": "9f8fae5e-b1f0-4fc6-e05e-ab3c4894cc2c"
      },
      "execution_count": 294,
      "outputs": [
        {
          "output_type": "execute_result",
          "data": {
            "text/plain": [
              "['lemon', 'pen', 'apple', 'pen']"
            ]
          },
          "metadata": {},
          "execution_count": 294
        }
      ]
    },
    {
      "cell_type": "code",
      "source": [
        "aa = a.split('-')\n",
        "aa"
      ],
      "metadata": {
        "colab": {
          "base_uri": "https://localhost:8080/"
        },
        "id": "qMy-NfhDgmVd",
        "outputId": "43b2750e-2369-44fe-81c7-c4e52167e13f"
      },
      "execution_count": 295,
      "outputs": [
        {
          "output_type": "execute_result",
          "data": {
            "text/plain": [
              "['lemon', 'pen', 'apple', 'pen']"
            ]
          },
          "metadata": {},
          "execution_count": 295
        }
      ]
    },
    {
      "cell_type": "markdown",
      "source": [
        "aa에 반환된 리스트를 대입 후 index로 값을 조회할 수 있다."
      ],
      "metadata": {
        "id": "mpeRGsmegoqP"
      }
    },
    {
      "cell_type": "code",
      "source": [
        "aa[1]"
      ],
      "metadata": {
        "colab": {
          "base_uri": "https://localhost:8080/",
          "height": 36
        },
        "id": "366aHmMNgsVz",
        "outputId": "f9378785-e875-4189-eb33-f05e28379874"
      },
      "execution_count": 296,
      "outputs": [
        {
          "output_type": "execute_result",
          "data": {
            "text/plain": [
              "'pen'"
            ],
            "application/vnd.google.colaboratory.intrinsic+json": {
              "type": "string"
            }
          },
          "metadata": {},
          "execution_count": 296
        }
      ]
    },
    {
      "cell_type": "markdown",
      "source": [
        "###lower(), upper()"
      ],
      "metadata": {
        "id": "UZjuufyVhANx"
      }
    },
    {
      "cell_type": "code",
      "source": [
        "a= 'My name is Seungah'"
      ],
      "metadata": {
        "id": "diwZGB3mhIXU"
      },
      "execution_count": 297,
      "outputs": []
    },
    {
      "cell_type": "markdown",
      "source": [
        "소문자로 변경"
      ],
      "metadata": {
        "id": "ODduzcM5hHY0"
      }
    },
    {
      "cell_type": "code",
      "source": [
        "a.lower()"
      ],
      "metadata": {
        "colab": {
          "base_uri": "https://localhost:8080/",
          "height": 36
        },
        "id": "YWQas55NhVOy",
        "outputId": "b63de272-0ab8-4671-c561-34a48a07f425"
      },
      "execution_count": 298,
      "outputs": [
        {
          "output_type": "execute_result",
          "data": {
            "text/plain": [
              "'my name is seungah'"
            ],
            "application/vnd.google.colaboratory.intrinsic+json": {
              "type": "string"
            }
          },
          "metadata": {},
          "execution_count": 298
        }
      ]
    },
    {
      "cell_type": "markdown",
      "source": [
        "대문자로 변경"
      ],
      "metadata": {
        "id": "4eaTNKb5hWi_"
      }
    },
    {
      "cell_type": "code",
      "source": [
        "a.upper()"
      ],
      "metadata": {
        "colab": {
          "base_uri": "https://localhost:8080/",
          "height": 36
        },
        "id": "jM7n_8othYF7",
        "outputId": "e5b7034f-980d-42e8-a168-977defb5778a"
      },
      "execution_count": 299,
      "outputs": [
        {
          "output_type": "execute_result",
          "data": {
            "text/plain": [
              "'MY NAME IS SEUNGAH'"
            ],
            "application/vnd.google.colaboratory.intrinsic+json": {
              "type": "string"
            }
          },
          "metadata": {},
          "execution_count": 299
        }
      ]
    },
    {
      "cell_type": "markdown",
      "source": [
        "##strip()\n",
        "- 공백 제거"
      ],
      "metadata": {
        "id": "bLJeabq8hl5v"
      }
    },
    {
      "cell_type": "code",
      "source": [
        "a='         hong seung ah                  '\n",
        "print(a)"
      ],
      "metadata": {
        "colab": {
          "base_uri": "https://localhost:8080/"
        },
        "id": "uAV2FA5Jhpfn",
        "outputId": "a57bb1ea-7d42-4255-920c-b80ec1a2d254"
      },
      "execution_count": 300,
      "outputs": [
        {
          "output_type": "stream",
          "name": "stdout",
          "text": [
            "         hong seung ah                  \n"
          ]
        }
      ]
    },
    {
      "cell_type": "markdown",
      "source": [
        "lstrip()\n",
        "- 왼쪽 공백 제거"
      ],
      "metadata": {
        "id": "jiOgLeJyh46s"
      }
    },
    {
      "cell_type": "code",
      "source": [
        "a.lstrip()"
      ],
      "metadata": {
        "colab": {
          "base_uri": "https://localhost:8080/",
          "height": 36
        },
        "id": "ZR1ojVqoh-iS",
        "outputId": "93f52012-6eda-497c-e47d-ae5020768513"
      },
      "execution_count": 301,
      "outputs": [
        {
          "output_type": "execute_result",
          "data": {
            "text/plain": [
              "'hong seung ah                  '"
            ],
            "application/vnd.google.colaboratory.intrinsic+json": {
              "type": "string"
            }
          },
          "metadata": {},
          "execution_count": 301
        }
      ]
    },
    {
      "cell_type": "markdown",
      "source": [
        "###rstrip() \n",
        "- 오른쪽 공백 제거"
      ],
      "metadata": {
        "id": "otRm6fp2iANY"
      }
    },
    {
      "cell_type": "code",
      "source": [
        "a.rstrip()"
      ],
      "metadata": {
        "colab": {
          "base_uri": "https://localhost:8080/",
          "height": 36
        },
        "id": "PXd-JT7BiDJi",
        "outputId": "ee78cee0-4cf1-453d-d745-f9d2a0ee4ec9"
      },
      "execution_count": 302,
      "outputs": [
        {
          "output_type": "execute_result",
          "data": {
            "text/plain": [
              "'         hong seung ah'"
            ],
            "application/vnd.google.colaboratory.intrinsic+json": {
              "type": "string"
            }
          },
          "metadata": {},
          "execution_count": 302
        }
      ]
    },
    {
      "cell_type": "markdown",
      "source": [
        "###strip() \n",
        "- 양쪽 공백 제거"
      ],
      "metadata": {
        "id": "1OiN4H7XiGYb"
      }
    },
    {
      "cell_type": "code",
      "source": [
        "a.strip()"
      ],
      "metadata": {
        "colab": {
          "base_uri": "https://localhost:8080/",
          "height": 36
        },
        "id": "z7htBPMZiJMC",
        "outputId": "b17044a9-c9fd-4934-8d49-722bcece7321"
      },
      "execution_count": 303,
      "outputs": [
        {
          "output_type": "execute_result",
          "data": {
            "text/plain": [
              "'hong seung ah'"
            ],
            "application/vnd.google.colaboratory.intrinsic+json": {
              "type": "string"
            }
          },
          "metadata": {},
          "execution_count": 303
        }
      ]
    },
    {
      "cell_type": "markdown",
      "source": [
        "#연산"
      ],
      "metadata": {
        "id": "AhXdQETalXr9"
      }
    },
    {
      "cell_type": "markdown",
      "source": [
        "##사칙연산"
      ],
      "metadata": {
        "id": "tRWX3VY6laQz"
      }
    },
    {
      "cell_type": "code",
      "source": [
        "a=3\n",
        "b=33"
      ],
      "metadata": {
        "id": "sRvAICtvltF5"
      },
      "execution_count": 304,
      "outputs": []
    },
    {
      "cell_type": "markdown",
      "source": [
        "###더하기(+)"
      ],
      "metadata": {
        "id": "f90wu4EElp01"
      }
    },
    {
      "cell_type": "code",
      "source": [
        "a+b"
      ],
      "metadata": {
        "colab": {
          "base_uri": "https://localhost:8080/"
        },
        "id": "TIKkb3A-lsNG",
        "outputId": "0955bbda-c754-4ce6-f59f-59c67dfd3c61"
      },
      "execution_count": 305,
      "outputs": [
        {
          "output_type": "execute_result",
          "data": {
            "text/plain": [
              "36"
            ]
          },
          "metadata": {},
          "execution_count": 305
        }
      ]
    },
    {
      "cell_type": "markdown",
      "source": [
        "x += y 는 x에 y를 더한 뒤 자신의 변수에 재 할당한다."
      ],
      "metadata": {
        "id": "YhwjaDiYmcDt"
      }
    },
    {
      "cell_type": "code",
      "source": [
        "x= 3\n",
        "x+=33\n",
        "print(x)"
      ],
      "metadata": {
        "colab": {
          "base_uri": "https://localhost:8080/"
        },
        "id": "E-OnI_-8meec",
        "outputId": "04a23a53-fbd3-45c1-ba4e-bf06c56076df"
      },
      "execution_count": 306,
      "outputs": [
        {
          "output_type": "stream",
          "name": "stdout",
          "text": [
            "36\n"
          ]
        }
      ]
    },
    {
      "cell_type": "markdown",
      "source": [
        "###뺄셈(-)"
      ],
      "metadata": {
        "id": "VopKJvo6mr3k"
      }
    },
    {
      "cell_type": "code",
      "source": [
        "a-b"
      ],
      "metadata": {
        "colab": {
          "base_uri": "https://localhost:8080/"
        },
        "id": "i8bSQ19Mmw9l",
        "outputId": "32e4b639-dd05-4f22-90a7-02535a1adf46"
      },
      "execution_count": 307,
      "outputs": [
        {
          "output_type": "execute_result",
          "data": {
            "text/plain": [
              "-30"
            ]
          },
          "metadata": {},
          "execution_count": 307
        }
      ]
    },
    {
      "cell_type": "code",
      "source": [
        "x=3\n",
        "x-=33\n",
        "print(x)"
      ],
      "metadata": {
        "colab": {
          "base_uri": "https://localhost:8080/"
        },
        "id": "QgSd6Hscmz7E",
        "outputId": "25b214ff-3222-4a88-f136-c43fb58cbaaa"
      },
      "execution_count": 308,
      "outputs": [
        {
          "output_type": "stream",
          "name": "stdout",
          "text": [
            "-30\n"
          ]
        }
      ]
    },
    {
      "cell_type": "markdown",
      "source": [
        "###나눗셈(/)"
      ],
      "metadata": {
        "id": "xSYmi6EXm7j_"
      }
    },
    {
      "cell_type": "code",
      "source": [
        "a/b"
      ],
      "metadata": {
        "colab": {
          "base_uri": "https://localhost:8080/"
        },
        "id": "iwyvA9DAm_F5",
        "outputId": "f89b94d2-eb72-48e0-eba2-034fcf91eda8"
      },
      "execution_count": 309,
      "outputs": [
        {
          "output_type": "execute_result",
          "data": {
            "text/plain": [
              "0.09090909090909091"
            ]
          },
          "metadata": {},
          "execution_count": 309
        }
      ]
    },
    {
      "cell_type": "code",
      "source": [
        "x = 10\n",
        "x /= 2\n",
        "print(x)"
      ],
      "metadata": {
        "colab": {
          "base_uri": "https://localhost:8080/"
        },
        "id": "YxL7B_o8nHt3",
        "outputId": "2a23cbca-a3aa-4f01-a145-70bc1c1467dd"
      },
      "execution_count": 310,
      "outputs": [
        {
          "output_type": "stream",
          "name": "stdout",
          "text": [
            "5.0\n"
          ]
        }
      ]
    },
    {
      "cell_type": "markdown",
      "source": [
        "###곱셈(*)"
      ],
      "metadata": {
        "id": "dyDs5-RVnbrV"
      }
    },
    {
      "cell_type": "code",
      "source": [
        "a*b"
      ],
      "metadata": {
        "colab": {
          "base_uri": "https://localhost:8080/"
        },
        "id": "myVNiprvngsM",
        "outputId": "e03442a7-ddb3-4576-f42c-5c0aa5f34e26"
      },
      "execution_count": 311,
      "outputs": [
        {
          "output_type": "execute_result",
          "data": {
            "text/plain": [
              "99"
            ]
          },
          "metadata": {},
          "execution_count": 311
        }
      ]
    },
    {
      "cell_type": "code",
      "source": [
        "x = 20\n",
        "x *= 3\n",
        "print(x)"
      ],
      "metadata": {
        "colab": {
          "base_uri": "https://localhost:8080/"
        },
        "id": "G4ndl4fwnj4j",
        "outputId": "f88c9f16-ce30-4156-e10d-843a84644898"
      },
      "execution_count": 312,
      "outputs": [
        {
          "output_type": "stream",
          "name": "stdout",
          "text": [
            "60\n"
          ]
        }
      ]
    },
    {
      "cell_type": "markdown",
      "source": [
        "##그 외"
      ],
      "metadata": {
        "id": "gGJUWgH0npoM"
      }
    },
    {
      "cell_type": "markdown",
      "source": [
        "###//\n",
        "- floor division 연산자, 나눗셈의 몫을 정수형으로 구한다."
      ],
      "metadata": {
        "id": "aVqDbcVlnr5V"
      }
    },
    {
      "cell_type": "code",
      "source": [
        "a = 10\n",
        "b = 3"
      ],
      "metadata": {
        "id": "XRAFn_Kbn7Y1"
      },
      "execution_count": 313,
      "outputs": []
    },
    {
      "cell_type": "code",
      "source": [
        "a // b"
      ],
      "metadata": {
        "colab": {
          "base_uri": "https://localhost:8080/"
        },
        "id": "K-kzpVgfoDlH",
        "outputId": "e2ec5430-a430-481b-ece0-ddca43f7d48a"
      },
      "execution_count": 314,
      "outputs": [
        {
          "output_type": "execute_result",
          "data": {
            "text/plain": [
              "3"
            ]
          },
          "metadata": {},
          "execution_count": 314
        }
      ]
    },
    {
      "cell_type": "markdown",
      "source": [
        "##%\n",
        "- modulus 연산자, 나머지를 구한다."
      ],
      "metadata": {
        "id": "AK-5R7a-oEz7"
      }
    },
    {
      "cell_type": "code",
      "source": [
        "a % b"
      ],
      "metadata": {
        "colab": {
          "base_uri": "https://localhost:8080/"
        },
        "id": "h1Ch7KwkoQga",
        "outputId": "f5618835-5d2a-420f-a363-2bba2229833e"
      },
      "execution_count": 315,
      "outputs": [
        {
          "output_type": "execute_result",
          "data": {
            "text/plain": [
              "1"
            ]
          },
          "metadata": {},
          "execution_count": 315
        }
      ]
    },
    {
      "cell_type": "markdown",
      "source": [
        "###**\n",
        "- 제곱연산을 수행"
      ],
      "metadata": {
        "id": "1PF5j0-joUCJ"
      }
    },
    {
      "cell_type": "code",
      "source": [
        "a ** b"
      ],
      "metadata": {
        "colab": {
          "base_uri": "https://localhost:8080/"
        },
        "id": "qvl61pplocKc",
        "outputId": "1ede4294-472e-4d08-c9b2-21804f708e75"
      },
      "execution_count": 316,
      "outputs": [
        {
          "output_type": "execute_result",
          "data": {
            "text/plain": [
              "1000"
            ]
          },
          "metadata": {},
          "execution_count": 316
        }
      ]
    },
    {
      "cell_type": "markdown",
      "source": [
        "##괄호()\n",
        "- 괄호 안의 식을 먼저 연산한다."
      ],
      "metadata": {
        "id": "gSlA4mjwofBk"
      }
    },
    {
      "cell_type": "code",
      "source": [
        "(10 + 2) * 5\n"
      ],
      "metadata": {
        "colab": {
          "base_uri": "https://localhost:8080/"
        },
        "id": "UHY5Hwzkohwj",
        "outputId": "c8da8051-e00e-43c7-c360-4968668ba021"
      },
      "execution_count": 317,
      "outputs": [
        {
          "output_type": "execute_result",
          "data": {
            "text/plain": [
              "60"
            ]
          },
          "metadata": {},
          "execution_count": 317
        }
      ]
    }
  ]
}