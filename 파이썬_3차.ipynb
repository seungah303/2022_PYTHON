{
  "nbformat": 4,
  "nbformat_minor": 0,
  "metadata": {
    "colab": {
      "name": "파이썬 3차.ipynb",
      "provenance": [],
      "collapsed_sections": [],
      "authorship_tag": "ABX9TyPS1PCvWYTyXau1iINZWTId",
      "include_colab_link": true
    },
    "kernelspec": {
      "name": "python3",
      "display_name": "Python 3"
    },
    "language_info": {
      "name": "python"
    }
  },
  "cells": [
    {
      "cell_type": "markdown",
      "metadata": {
        "id": "view-in-github",
        "colab_type": "text"
      },
      "source": [
        "<a href=\"https://colab.research.google.com/github/seungah303/2022_PYTHON/blob/main/%ED%8C%8C%EC%9D%B4%EC%8D%AC_3%EC%B0%A8.ipynb\" target=\"_parent\"><img src=\"https://colab.research.google.com/assets/colab-badge.svg\" alt=\"Open In Colab\"/></a>"
      ]
    },
    {
      "cell_type": "markdown",
      "source": [
        "#자료구조 (list, tuple, set, dictionary)"
      ],
      "metadata": {
        "id": "Ke54XX-U3O3J"
      }
    },
    {
      "cell_type": "markdown",
      "source": [
        "##list"
      ],
      "metadata": {
        "id": "D6Swu-bM3RaB"
      }
    },
    {
      "cell_type": "markdown",
      "source": [
        "-가변 객체<br>\n",
        "-데이터의 요소를 순차적으로 파악하는데 용이한 자료형<br>\n",
        "-메서드를 활용하여 요소 추가, 삭제, 변경 가능<br>\n",
        "-[] (대괄호) 사용\n"
      ],
      "metadata": {
        "id": "3FNvXpG83ZVH"
      }
    },
    {
      "cell_type": "markdown",
      "source": [
        "\n",
        "####생성"
      ],
      "metadata": {
        "id": "bpDr8Dzn4Ku_"
      }
    },
    {
      "cell_type": "code",
      "source": [
        "mylist=[]\n",
        "mylist"
      ],
      "metadata": {
        "colab": {
          "base_uri": "https://localhost:8080/"
        },
        "id": "IKaGZdW63VKC",
        "outputId": "70838671-f5d6-4501-891c-5f7d4a0c1da1"
      },
      "execution_count": 144,
      "outputs": [
        {
          "output_type": "execute_result",
          "data": {
            "text/plain": [
              "[]"
            ]
          },
          "metadata": {},
          "execution_count": 144
        }
      ]
    },
    {
      "cell_type": "code",
      "source": [
        "mylist=[1, 3, 2, 4, 5]\n",
        "mylist"
      ],
      "metadata": {
        "colab": {
          "base_uri": "https://localhost:8080/"
        },
        "id": "GmduQkCQ4n7L",
        "outputId": "76de2b91-f851-47a8-a3b4-5767f8bde4ed"
      },
      "execution_count": 145,
      "outputs": [
        {
          "output_type": "execute_result",
          "data": {
            "text/plain": [
              "[1, 3, 2, 4, 5]"
            ]
          },
          "metadata": {},
          "execution_count": 145
        }
      ]
    },
    {
      "cell_type": "markdown",
      "source": [
        "####규칙"
      ],
      "metadata": {
        "id": "PtHGoX_H45di"
      }
    },
    {
      "cell_type": "markdown",
      "source": [
        "#####list는 다양한 type의 데이터를 집합으로 가짐"
      ],
      "metadata": {
        "id": "JA1nDYy74zRd"
      }
    },
    {
      "cell_type": "code",
      "source": [
        "a = [1, 'hello', 303, 3.14, True]\n",
        "a"
      ],
      "metadata": {
        "colab": {
          "base_uri": "https://localhost:8080/"
        },
        "id": "zXvcyS9K47Hh",
        "outputId": "c17350e7-f39c-4bd3-bef2-0a65617e42a2"
      },
      "execution_count": 146,
      "outputs": [
        {
          "output_type": "execute_result",
          "data": {
            "text/plain": [
              "[1, 'hello', 303, 3.14, True]"
            ]
          },
          "metadata": {},
          "execution_count": 146
        }
      ]
    },
    {
      "cell_type": "markdown",
      "source": [
        "#####리스트 안에 리스트 포함가능"
      ],
      "metadata": {
        "id": "KIa5QQlM4_yu"
      }
    },
    {
      "cell_type": "code",
      "source": [
        "a = [1, 'suitley', 303, 3.14, [303,'8']]\n",
        "a"
      ],
      "metadata": {
        "colab": {
          "base_uri": "https://localhost:8080/"
        },
        "id": "IVQViJId4sqs",
        "outputId": "0cad24ce-90b0-4dad-87ea-714c870e3166"
      },
      "execution_count": 147,
      "outputs": [
        {
          "output_type": "execute_result",
          "data": {
            "text/plain": [
              "[1, 'suitley', 303, 3.14, [303, '8']]"
            ]
          },
          "metadata": {},
          "execution_count": 147
        }
      ]
    },
    {
      "cell_type": "markdown",
      "source": [
        "####.(점) 연산자로 함수실행"
      ],
      "metadata": {
        "id": "JZy4x1U35iZw"
      }
    },
    {
      "cell_type": "code",
      "source": [
        "mylist.append(1)\n",
        "mylist.append(2)\n",
        "mylist.append(3) \n",
        "mylist.append(4)\n",
        "mylist.append(5)\n",
        "mylist"
      ],
      "metadata": {
        "colab": {
          "base_uri": "https://localhost:8080/"
        },
        "id": "Y8pkeAzl52WV",
        "outputId": "e06c2129-f2f0-4964-e9bd-b6e8b8313134"
      },
      "execution_count": 148,
      "outputs": [
        {
          "output_type": "execute_result",
          "data": {
            "text/plain": [
              "[1, 3, 2, 4, 5, 1, 2, 3, 4, 5]"
            ]
          },
          "metadata": {},
          "execution_count": 148
        }
      ]
    },
    {
      "cell_type": "markdown",
      "source": [
        "####sort() "
      ],
      "metadata": {
        "id": "HyNdq7PK6Qe7"
      }
    },
    {
      "cell_type": "markdown",
      "source": [
        "-요소를 순서대로 정렬 (오름차순)<br>\n",
        "-내부적으로 정렬"
      ],
      "metadata": {
        "id": "4YsxMDPg6irh"
      }
    },
    {
      "cell_type": "code",
      "source": [
        "mylist = [1, 6, 3, 2, 7, 5, 4]\n",
        "mylist.sort()\n",
        "mylist"
      ],
      "metadata": {
        "colab": {
          "base_uri": "https://localhost:8080/"
        },
        "id": "UqHMJHzp6sE4",
        "outputId": "a207fb01-64a4-4059-e3b7-957558b10c64"
      },
      "execution_count": 149,
      "outputs": [
        {
          "output_type": "execute_result",
          "data": {
            "text/plain": [
              "[1, 2, 3, 4, 5, 6, 7]"
            ]
          },
          "metadata": {},
          "execution_count": 149
        }
      ]
    },
    {
      "cell_type": "markdown",
      "source": [
        "역정렬(reverse order) 가능<br>\n",
        "(reverse=true)"
      ],
      "metadata": {
        "id": "KX0OG9zl613x"
      }
    },
    {
      "cell_type": "code",
      "source": [
        "mylist = [1, 6, 3, 2, 7, 5, 4]\n",
        "mylist.sort(reverse=True)\n",
        "mylist"
      ],
      "metadata": {
        "colab": {
          "base_uri": "https://localhost:8080/"
        },
        "id": "6rVpwDVE6ygE",
        "outputId": "0279761a-87cd-45c6-e1ef-8f03446d16d3"
      },
      "execution_count": 150,
      "outputs": [
        {
          "output_type": "execute_result",
          "data": {
            "text/plain": [
              "[7, 6, 5, 4, 3, 2, 1]"
            ]
          },
          "metadata": {},
          "execution_count": 150
        }
      ]
    },
    {
      "cell_type": "markdown",
      "source": [
        "####sorted()"
      ],
      "metadata": {
        "id": "TRhhCdXQ7cnK"
      }
    },
    {
      "cell_type": "markdown",
      "source": [
        "-요소를 순서대로 정렬<br>\n",
        "-기존의 리스트를 변경하는 것이 아닌 정렬된 새로운 리스트를 반환"
      ],
      "metadata": {
        "id": "KsNqtcg37hQt"
      }
    },
    {
      "cell_type": "code",
      "source": [
        "mylist = [1, 6, 3, 2, 7, 5, 4]\n",
        "sorted(mylist)"
      ],
      "metadata": {
        "colab": {
          "base_uri": "https://localhost:8080/"
        },
        "id": "kaxTq0ti9JE6",
        "outputId": "c0e33d6a-16b7-4c7f-e240-d57fd7414c55"
      },
      "execution_count": 151,
      "outputs": [
        {
          "output_type": "execute_result",
          "data": {
            "text/plain": [
              "[1, 2, 3, 4, 5, 6, 7]"
            ]
          },
          "metadata": {},
          "execution_count": 151
        }
      ]
    },
    {
      "cell_type": "markdown",
      "source": [
        "원본데이터는 변경되지 않음"
      ],
      "metadata": {
        "id": "zhlxRz469nlD"
      }
    },
    {
      "cell_type": "code",
      "source": [
        "mylist"
      ],
      "metadata": {
        "colab": {
          "base_uri": "https://localhost:8080/"
        },
        "id": "x82lWxNb9jnI",
        "outputId": "9c4cbfdd-b750-4664-937c-3a63a249e7da"
      },
      "execution_count": 152,
      "outputs": [
        {
          "output_type": "execute_result",
          "data": {
            "text/plain": [
              "[1, 6, 3, 2, 7, 5, 4]"
            ]
          },
          "metadata": {},
          "execution_count": 152
        }
      ]
    },
    {
      "cell_type": "markdown",
      "source": [
        "reverse=true 로 역정렬"
      ],
      "metadata": {
        "id": "yVdf3bVa9RZr"
      }
    },
    {
      "cell_type": "code",
      "source": [
        "mylist = [1, 6, 3, 2, 7, 5, 4]\n",
        "sorted(mylist, reverse=True)"
      ],
      "metadata": {
        "colab": {
          "base_uri": "https://localhost:8080/"
        },
        "id": "vWWdtorZ9cQI",
        "outputId": "44d04802-3dba-4a4f-bed3-9289ed99dc6e"
      },
      "execution_count": 153,
      "outputs": [
        {
          "output_type": "execute_result",
          "data": {
            "text/plain": [
              "[7, 6, 5, 4, 3, 2, 1]"
            ]
          },
          "metadata": {},
          "execution_count": 153
        }
      ]
    },
    {
      "cell_type": "markdown",
      "source": [
        "####recerse() "
      ],
      "metadata": {
        "id": "zLQrmv8R9xmC"
      }
    },
    {
      "cell_type": "markdown",
      "source": [
        "-listf를 역정렬"
      ],
      "metadata": {
        "id": "LwMYIGpA9241"
      }
    },
    {
      "cell_type": "code",
      "source": [
        "mylist = [1, 6, 3, 2, 7, 5, 4]\n",
        "mylist.reverse()\n",
        "mylist"
      ],
      "metadata": {
        "colab": {
          "base_uri": "https://localhost:8080/"
        },
        "id": "yCDXuynT96rR",
        "outputId": "204eb635-feb5-4355-ce7e-25af0df72c73"
      },
      "execution_count": 154,
      "outputs": [
        {
          "output_type": "execute_result",
          "data": {
            "text/plain": [
              "[4, 5, 7, 2, 3, 6, 1]"
            ]
          },
          "metadata": {},
          "execution_count": 154
        }
      ]
    },
    {
      "cell_type": "markdown",
      "source": [
        "####len()"
      ],
      "metadata": {
        "id": "zlaqvELW-IFT"
      }
    },
    {
      "cell_type": "markdown",
      "source": [
        "-전체 항목의 개수 세기"
      ],
      "metadata": {
        "id": "jvKSbFsq-J_5"
      }
    },
    {
      "cell_type": "code",
      "source": [
        "mylist=[3, 0, 3, 0, 3, 0, 3, 0, 3, 0, 3, 0, 3, 0, 3, 0]\n",
        "len(mylist)"
      ],
      "metadata": {
        "colab": {
          "base_uri": "https://localhost:8080/"
        },
        "id": "DrpBz_Cw-CQ2",
        "outputId": "99bbc438-7e99-436d-ac7c-93d4c116f567"
      },
      "execution_count": 155,
      "outputs": [
        {
          "output_type": "execute_result",
          "data": {
            "text/plain": [
              "16"
            ]
          },
          "metadata": {},
          "execution_count": 155
        }
      ]
    },
    {
      "cell_type": "markdown",
      "source": [
        "####insert()"
      ],
      "metadata": {
        "id": "y95W4UE6-fD_"
      }
    },
    {
      "cell_type": "markdown",
      "source": [
        "-지정한 index에 값을 추가"
      ],
      "metadata": {
        "id": "CnjkcKa7-j4o"
      }
    },
    {
      "cell_type": "code",
      "source": [
        "mylist = [1, 6, 3, 2, 7, 5, 4]"
      ],
      "metadata": {
        "id": "64CKindb_por"
      },
      "execution_count": 156,
      "outputs": []
    },
    {
      "cell_type": "code",
      "source": [
        "mylist.insert(1, 2)\n",
        "mylist"
      ],
      "metadata": {
        "colab": {
          "base_uri": "https://localhost:8080/"
        },
        "id": "cpQs6Dtg_plD",
        "outputId": "1e26dc78-af6d-4cfa-ef5b-99475135b8c7"
      },
      "execution_count": 157,
      "outputs": [
        {
          "output_type": "execute_result",
          "data": {
            "text/plain": [
              "[1, 2, 6, 3, 2, 7, 5, 4]"
            ]
          },
          "metadata": {},
          "execution_count": 157
        }
      ]
    },
    {
      "cell_type": "markdown",
      "source": [
        "#####remove()"
      ],
      "metadata": {
        "id": "HJBhX3m5_2V6"
      }
    },
    {
      "cell_type": "markdown",
      "source": [
        "-리스트에서 첫 번째 나오는 해당 값을 삭제"
      ],
      "metadata": {
        "id": "1ddN3xRV_6vm"
      }
    },
    {
      "cell_type": "code",
      "source": [
        "mylist=[1, 2, 3, 4, 5, 6, 7, 8, 9, 10, 11, 12, 13, 14, 15, 16, 17, 18, 19, 20]\n",
        "mylist"
      ],
      "metadata": {
        "colab": {
          "base_uri": "https://localhost:8080/"
        },
        "id": "1sWGqPU0_-MJ",
        "outputId": "aa20fb45-ef2d-4627-aee7-c2ca7060f352"
      },
      "execution_count": 158,
      "outputs": [
        {
          "output_type": "execute_result",
          "data": {
            "text/plain": [
              "[1, 2, 3, 4, 5, 6, 7, 8, 9, 10, 11, 12, 13, 14, 15, 16, 17, 18, 19, 20]"
            ]
          },
          "metadata": {},
          "execution_count": 158
        }
      ]
    },
    {
      "cell_type": "code",
      "source": [
        "mylist.remove(1)\n",
        "mylist"
      ],
      "metadata": {
        "colab": {
          "base_uri": "https://localhost:8080/"
        },
        "id": "b0BA6dveAJlr",
        "outputId": "58080d09-13d3-4fdf-afee-72f74771e5ca"
      },
      "execution_count": 159,
      "outputs": [
        {
          "output_type": "execute_result",
          "data": {
            "text/plain": [
              "[2, 3, 4, 5, 6, 7, 8, 9, 10, 11, 12, 13, 14, 15, 16, 17, 18, 19, 20]"
            ]
          },
          "metadata": {},
          "execution_count": 159
        }
      ]
    },
    {
      "cell_type": "markdown",
      "source": [
        "#####pop()"
      ],
      "metadata": {
        "id": "uINY5SMGAb8h"
      }
    },
    {
      "cell_type": "markdown",
      "source": [
        "-x번째 요소를 반환하고 해당 요소는 삭제\n"
      ],
      "metadata": {
        "id": "KYUcIzbqAfdo"
      }
    },
    {
      "cell_type": "code",
      "source": [
        "mylist=[1, 2, 3, 4, 5, 6, 7, 8, 9, 10, 11, 12, 13, 14, 15, 16, 17, 18, 19, 20]\n",
        "mylist.pop(1)"
      ],
      "metadata": {
        "colab": {
          "base_uri": "https://localhost:8080/"
        },
        "id": "ZUbKQCORAwvn",
        "outputId": "4251a1c6-86fd-4966-de9e-bd63f4bdb11d"
      },
      "execution_count": 160,
      "outputs": [
        {
          "output_type": "execute_result",
          "data": {
            "text/plain": [
              "2"
            ]
          },
          "metadata": {},
          "execution_count": 160
        }
      ]
    },
    {
      "cell_type": "code",
      "source": [
        "mylist"
      ],
      "metadata": {
        "colab": {
          "base_uri": "https://localhost:8080/"
        },
        "id": "nDwpWzN7A4AN",
        "outputId": "43900b16-df12-4cb3-e4c9-ae96cf2c7310"
      },
      "execution_count": 161,
      "outputs": [
        {
          "output_type": "execute_result",
          "data": {
            "text/plain": [
              "[1, 3, 4, 5, 6, 7, 8, 9, 10, 11, 12, 13, 14, 15, 16, 17, 18, 19, 20]"
            ]
          },
          "metadata": {},
          "execution_count": 161
        }
      ]
    },
    {
      "cell_type": "markdown",
      "source": [
        "####del"
      ],
      "metadata": {
        "id": "TEwFBpCzA_2x"
      }
    },
    {
      "cell_type": "markdown",
      "source": [
        "-요소삭제"
      ],
      "metadata": {
        "id": "nttV0YGABDK8"
      }
    },
    {
      "cell_type": "code",
      "source": [
        "mylist = [100, 200, 300, 400, 500]\n",
        "\n",
        "del mylist[1]\n",
        "print(mylist)\n",
        "del mylist[3]\n",
        "print(mylist)"
      ],
      "metadata": {
        "colab": {
          "base_uri": "https://localhost:8080/"
        },
        "id": "pMvUTjEcCxgV",
        "outputId": "dcf66fb5-28e7-497c-8e7d-266602c0ed4d"
      },
      "execution_count": 162,
      "outputs": [
        {
          "output_type": "stream",
          "name": "stdout",
          "text": [
            "[100, 300, 400, 500]\n",
            "[100, 300, 400]\n"
          ]
        }
      ]
    },
    {
      "cell_type": "markdown",
      "source": [
        "####count()"
      ],
      "metadata": {
        "id": "UqA6T3h7C3pa"
      }
    },
    {
      "cell_type": "markdown",
      "source": [
        "-개수 세기"
      ],
      "metadata": {
        "id": "krMRKTQKC7HS"
      }
    },
    {
      "cell_type": "code",
      "source": [
        "mylist = [1, 1, 1, 1, 1, 2, 2, 3]"
      ],
      "metadata": {
        "id": "K1Zbms6wC9ec"
      },
      "execution_count": 163,
      "outputs": []
    },
    {
      "cell_type": "code",
      "source": [
        "mylist.count(1)"
      ],
      "metadata": {
        "colab": {
          "base_uri": "https://localhost:8080/"
        },
        "id": "8SGmRHWlDBkE",
        "outputId": "12f165d5-9bf3-4a30-a726-dda3c6ea333a"
      },
      "execution_count": 164,
      "outputs": [
        {
          "output_type": "execute_result",
          "data": {
            "text/plain": [
              "5"
            ]
          },
          "metadata": {},
          "execution_count": 164
        }
      ]
    },
    {
      "cell_type": "code",
      "source": [
        "mylist.count(2)"
      ],
      "metadata": {
        "colab": {
          "base_uri": "https://localhost:8080/"
        },
        "id": "RwNkuZk1DJRM",
        "outputId": "cd4a3d47-5b65-4a4d-adaf-edc9ce6b2c35"
      },
      "execution_count": 165,
      "outputs": [
        {
          "output_type": "execute_result",
          "data": {
            "text/plain": [
              "2"
            ]
          },
          "metadata": {},
          "execution_count": 165
        }
      ]
    },
    {
      "cell_type": "code",
      "source": [
        "mylist.count(3)"
      ],
      "metadata": {
        "colab": {
          "base_uri": "https://localhost:8080/"
        },
        "id": "yvJr_LH2DNxF",
        "outputId": "7a60a2a8-bd6d-4e6f-cfc8-8495e96d9158"
      },
      "execution_count": 166,
      "outputs": [
        {
          "output_type": "execute_result",
          "data": {
            "text/plain": [
              "1"
            ]
          },
          "metadata": {},
          "execution_count": 166
        }
      ]
    },
    {
      "cell_type": "markdown",
      "source": [
        "####extend()"
      ],
      "metadata": {
        "id": "iPwJtoOKDWW1"
      }
    },
    {
      "cell_type": "markdown",
      "source": [
        "-리스트 확장"
      ],
      "metadata": {
        "id": "zuZt5nGiDevv"
      }
    },
    {
      "cell_type": "code",
      "source": [
        "a = [1, 2, 3]\n",
        "a.extend([4, 5])\n",
        "a"
      ],
      "metadata": {
        "colab": {
          "base_uri": "https://localhost:8080/"
        },
        "id": "KVYi9EVUDHCE",
        "outputId": "f1084abf-011d-41fb-c9da-d4531bda1d28"
      },
      "execution_count": 167,
      "outputs": [
        {
          "output_type": "execute_result",
          "data": {
            "text/plain": [
              "[1, 2, 3, 4, 5]"
            ]
          },
          "metadata": {},
          "execution_count": 167
        }
      ]
    },
    {
      "cell_type": "markdown",
      "source": [
        "-연산자도 동일한 기능을 수행"
      ],
      "metadata": {
        "id": "Cbyqkz2TE-6U"
      }
    },
    {
      "cell_type": "code",
      "source": [
        "a = [1, 2, 3]\n",
        "a + [4, 5]"
      ],
      "metadata": {
        "colab": {
          "base_uri": "https://localhost:8080/"
        },
        "id": "CH8VAGhmFQKQ",
        "outputId": "d0cdbd32-8b38-4414-b7e6-54113b1948cf"
      },
      "execution_count": 168,
      "outputs": [
        {
          "output_type": "execute_result",
          "data": {
            "text/plain": [
              "[1, 2, 3, 4, 5]"
            ]
          },
          "metadata": {},
          "execution_count": 168
        }
      ]
    },
    {
      "cell_type": "markdown",
      "source": [
        "####indexing"
      ],
      "metadata": {
        "id": "iLJkgKmwFVeP"
      }
    },
    {
      "cell_type": "markdown",
      "source": [
        "-연속적인 객체(리스트, 튜플, 문자열)에 부여된 번호<br>\n",
        "-0부터 시작<br>\n"
      ],
      "metadata": {
        "id": "orWzWWXbFjfA"
      }
    },
    {
      "cell_type": "code",
      "source": [
        "mylist = [1, 2, 3, 4]"
      ],
      "metadata": {
        "id": "otYT9b2xFv88"
      },
      "execution_count": 169,
      "outputs": []
    },
    {
      "cell_type": "code",
      "source": [
        "mylist[0]"
      ],
      "metadata": {
        "colab": {
          "base_uri": "https://localhost:8080/"
        },
        "id": "OQ9tw1MqGAK-",
        "outputId": "61deab79-33fc-4395-b3e6-678958a61543"
      },
      "execution_count": 170,
      "outputs": [
        {
          "output_type": "execute_result",
          "data": {
            "text/plain": [
              "1"
            ]
          },
          "metadata": {},
          "execution_count": 170
        }
      ]
    },
    {
      "cell_type": "code",
      "source": [
        "mylist[3]"
      ],
      "metadata": {
        "colab": {
          "base_uri": "https://localhost:8080/"
        },
        "id": "JcbtI56iGCMY",
        "outputId": "97540e43-f03f-473a-c3de-88c9d294b742"
      },
      "execution_count": 171,
      "outputs": [
        {
          "output_type": "execute_result",
          "data": {
            "text/plain": [
              "4"
            ]
          },
          "metadata": {},
          "execution_count": 171
        }
      ]
    },
    {
      "cell_type": "code",
      "source": [
        "mylist[4]"
      ],
      "metadata": {
        "colab": {
          "base_uri": "https://localhost:8080/",
          "height": 176
        },
        "id": "J1rSdEXKGE9l",
        "outputId": "1e79c6d2-b4da-413b-b9c6-d73fb2a59785"
      },
      "execution_count": 172,
      "outputs": [
        {
          "output_type": "error",
          "ename": "IndexError",
          "evalue": "ignored",
          "traceback": [
            "\u001b[0;31m---------------------------------------------------------------------------\u001b[0m",
            "\u001b[0;31mIndexError\u001b[0m                                Traceback (most recent call last)",
            "\u001b[0;32m<ipython-input-172-88b11041aa4f>\u001b[0m in \u001b[0;36m<module>\u001b[0;34m()\u001b[0m\n\u001b[0;32m----> 1\u001b[0;31m \u001b[0mmylist\u001b[0m\u001b[0;34m[\u001b[0m\u001b[0;36m4\u001b[0m\u001b[0;34m]\u001b[0m\u001b[0;34m\u001b[0m\u001b[0;34m\u001b[0m\u001b[0m\n\u001b[0m",
            "\u001b[0;31mIndexError\u001b[0m: list index out of range"
          ]
        }
      ]
    },
    {
      "cell_type": "markdown",
      "source": [
        "4번째는 없음"
      ],
      "metadata": {
        "id": "Qfw8mZuDGH9F"
      }
    },
    {
      "cell_type": "markdown",
      "source": [
        "#####역순 인덱싱"
      ],
      "metadata": {
        "id": "PMdLVuyGGByc"
      }
    },
    {
      "cell_type": "markdown",
      "source": [
        "-역순은 -1부터 시작"
      ],
      "metadata": {
        "id": "yy0f6X1CGdQd"
      }
    },
    {
      "cell_type": "code",
      "source": [
        "mylist[-1]"
      ],
      "metadata": {
        "colab": {
          "base_uri": "https://localhost:8080/"
        },
        "id": "-TgxdkLOGSYg",
        "outputId": "0b294fe4-60da-42b6-905d-0b12f6fd388c"
      },
      "execution_count": 174,
      "outputs": [
        {
          "output_type": "execute_result",
          "data": {
            "text/plain": [
              "4"
            ]
          },
          "metadata": {},
          "execution_count": 174
        }
      ]
    },
    {
      "cell_type": "code",
      "source": [
        "mylist[-3]"
      ],
      "metadata": {
        "colab": {
          "base_uri": "https://localhost:8080/"
        },
        "id": "kB_7lGcNGU-U",
        "outputId": "62e18bd5-023f-48eb-fbce-2c03d256189d"
      },
      "execution_count": 175,
      "outputs": [
        {
          "output_type": "execute_result",
          "data": {
            "text/plain": [
              "2"
            ]
          },
          "metadata": {},
          "execution_count": 175
        }
      ]
    },
    {
      "cell_type": "code",
      "source": [
        "mylist[-5]"
      ],
      "metadata": {
        "colab": {
          "base_uri": "https://localhost:8080/",
          "height": 176
        },
        "id": "WSuXkJYjGXG3",
        "outputId": "5e1f70ee-868c-43fa-922f-0b841f3c7af1"
      },
      "execution_count": 176,
      "outputs": [
        {
          "output_type": "error",
          "ename": "IndexError",
          "evalue": "ignored",
          "traceback": [
            "\u001b[0;31m---------------------------------------------------------------------------\u001b[0m",
            "\u001b[0;31mIndexError\u001b[0m                                Traceback (most recent call last)",
            "\u001b[0;32m<ipython-input-176-7f152f66d2d3>\u001b[0m in \u001b[0;36m<module>\u001b[0;34m()\u001b[0m\n\u001b[0;32m----> 1\u001b[0;31m \u001b[0mmylist\u001b[0m\u001b[0;34m[\u001b[0m\u001b[0;34m-\u001b[0m\u001b[0;36m5\u001b[0m\u001b[0;34m]\u001b[0m\u001b[0;34m\u001b[0m\u001b[0;34m\u001b[0m\u001b[0m\n\u001b[0m",
            "\u001b[0;31mIndexError\u001b[0m: list index out of range"
          ]
        }
      ]
    },
    {
      "cell_type": "markdown",
      "source": [
        "-5번째는 없음"
      ],
      "metadata": {
        "id": "vJoUhjsdGs2P"
      }
    },
    {
      "cell_type": "markdown",
      "source": [
        "#####인덱스로 값 바꾸기"
      ],
      "metadata": {
        "id": "9-w_Gkw9Gwkp"
      }
    },
    {
      "cell_type": "code",
      "source": [
        "mylist = [1, 2, 3, 4, 5]\n",
        "mylist"
      ],
      "metadata": {
        "colab": {
          "base_uri": "https://localhost:8080/"
        },
        "id": "wITZkof-Gzse",
        "outputId": "4d317751-1b54-480f-f25c-392ebb5f7366"
      },
      "execution_count": 178,
      "outputs": [
        {
          "output_type": "execute_result",
          "data": {
            "text/plain": [
              "[1, 2, 3, 4, 5]"
            ]
          },
          "metadata": {},
          "execution_count": 178
        }
      ]
    },
    {
      "cell_type": "code",
      "source": [
        "mylist[0]"
      ],
      "metadata": {
        "colab": {
          "base_uri": "https://localhost:8080/"
        },
        "id": "jC-BB_6oG1-0",
        "outputId": "c6bc3dd2-5a71-4ec9-c6fd-2c623997f4b0"
      },
      "execution_count": 179,
      "outputs": [
        {
          "output_type": "execute_result",
          "data": {
            "text/plain": [
              "1"
            ]
          },
          "metadata": {},
          "execution_count": 179
        }
      ]
    },
    {
      "cell_type": "code",
      "source": [
        "mylist[0] = 100\n",
        "mylist"
      ],
      "metadata": {
        "colab": {
          "base_uri": "https://localhost:8080/"
        },
        "id": "JaPX2u4EG6Xf",
        "outputId": "420753f8-c810-4f97-d655-2f38ad9dc92a"
      },
      "execution_count": 180,
      "outputs": [
        {
          "output_type": "execute_result",
          "data": {
            "text/plain": [
              "[100, 2, 3, 4, 5]"
            ]
          },
          "metadata": {},
          "execution_count": 180
        }
      ]
    },
    {
      "cell_type": "code",
      "source": [
        "mylist[-1] = 300\n",
        "mylist"
      ],
      "metadata": {
        "colab": {
          "base_uri": "https://localhost:8080/"
        },
        "id": "U8tuiGLTG696",
        "outputId": "831f934a-5d39-4165-85f2-06fd67c80ceb"
      },
      "execution_count": 181,
      "outputs": [
        {
          "output_type": "execute_result",
          "data": {
            "text/plain": [
              "[100, 2, 3, 4, 300]"
            ]
          },
          "metadata": {},
          "execution_count": 181
        }
      ]
    },
    {
      "cell_type": "markdown",
      "source": [
        "#####중첩 인덱싱"
      ],
      "metadata": {
        "id": "whmlEUbUHDH2"
      }
    },
    {
      "cell_type": "code",
      "source": [
        "mylist = [['가', '나', '다'], [4, 5, 6], 7, 8, 9]\n",
        "mylist"
      ],
      "metadata": {
        "colab": {
          "base_uri": "https://localhost:8080/"
        },
        "id": "dL75tXb1HH7M",
        "outputId": "9baf95bc-a5e0-4ba2-bf20-5b032029844c"
      },
      "execution_count": 182,
      "outputs": [
        {
          "output_type": "execute_result",
          "data": {
            "text/plain": [
              "[['가', '나', '다'], [4, 5, 6], 7, 8, 9]"
            ]
          },
          "metadata": {},
          "execution_count": 182
        }
      ]
    },
    {
      "cell_type": "markdown",
      "source": [
        "list의 1번쨰 요소"
      ],
      "metadata": {
        "id": "VzN1kKccHdG6"
      }
    },
    {
      "cell_type": "code",
      "source": [
        "mylist[1]"
      ],
      "metadata": {
        "colab": {
          "base_uri": "https://localhost:8080/"
        },
        "id": "IngTMwMuHVAH",
        "outputId": "8aea4960-d945-4955-f8c0-6e76ef0d7991"
      },
      "execution_count": 183,
      "outputs": [
        {
          "output_type": "execute_result",
          "data": {
            "text/plain": [
              "[4, 5, 6]"
            ]
          },
          "metadata": {},
          "execution_count": 183
        }
      ]
    },
    {
      "cell_type": "markdown",
      "source": [
        "1번째의 0번째 요소"
      ],
      "metadata": {
        "id": "_vbzIqxPHix5"
      }
    },
    {
      "cell_type": "code",
      "source": [
        "mylist[1][0]"
      ],
      "metadata": {
        "colab": {
          "base_uri": "https://localhost:8080/"
        },
        "id": "dlzt0oHvHm7y",
        "outputId": "c428a1f3-7d95-40a7-b898-22b3c1f835c7"
      },
      "execution_count": 184,
      "outputs": [
        {
          "output_type": "execute_result",
          "data": {
            "text/plain": [
              "4"
            ]
          },
          "metadata": {},
          "execution_count": 184
        }
      ]
    },
    {
      "cell_type": "markdown",
      "source": [
        "값의 변경도 가능"
      ],
      "metadata": {
        "id": "Fcin7lxdH1t-"
      }
    },
    {
      "cell_type": "code",
      "source": [
        "mylist[1][1] = 99\n",
        "mylist"
      ],
      "metadata": {
        "colab": {
          "base_uri": "https://localhost:8080/"
        },
        "id": "7jHz71rYH0n7",
        "outputId": "3780e551-d99b-4f25-ff12-cb4963d8c7ea"
      },
      "execution_count": 185,
      "outputs": [
        {
          "output_type": "execute_result",
          "data": {
            "text/plain": [
              "[['가', '나', '다'], [4, 99, 6], 7, 8, 9]"
            ]
          },
          "metadata": {},
          "execution_count": 185
        }
      ]
    },
    {
      "cell_type": "markdown",
      "source": [
        "####Slicing"
      ],
      "metadata": {
        "id": "Mjz5-y5jH8NR"
      }
    },
    {
      "cell_type": "markdown",
      "source": [
        "-[start:stop:step] 을 명시하여 부분을 추출"
      ],
      "metadata": {
        "id": "A4OVHZcrID18"
      }
    },
    {
      "cell_type": "code",
      "source": [
        "mylist = [100, 200, 300, 400, 500]"
      ],
      "metadata": {
        "id": "hFbP_5bCIJqQ"
      },
      "execution_count": 186,
      "outputs": []
    },
    {
      "cell_type": "markdown",
      "source": [
        "전체추출(:)"
      ],
      "metadata": {
        "id": "xor7uiCOIW3s"
      }
    },
    {
      "cell_type": "code",
      "source": [
        "mylist[:]"
      ],
      "metadata": {
        "colab": {
          "base_uri": "https://localhost:8080/"
        },
        "id": "-LeYT4SNIWcD",
        "outputId": "3da1179b-2a38-4afe-c2e7-a57badf327fe"
      },
      "execution_count": 187,
      "outputs": [
        {
          "output_type": "execute_result",
          "data": {
            "text/plain": [
              "[100, 200, 300, 400, 500]"
            ]
          },
          "metadata": {},
          "execution_count": 187
        }
      ]
    },
    {
      "cell_type": "markdown",
      "source": [
        "[start:]는 시작 index 부터 끝까지 추출"
      ],
      "metadata": {
        "id": "SSj_p412IejF"
      }
    },
    {
      "cell_type": "code",
      "source": [
        "mylist[2:]"
      ],
      "metadata": {
        "colab": {
          "base_uri": "https://localhost:8080/"
        },
        "id": "qx_G5scoIfT4",
        "outputId": "dac64773-9dcf-4f63-9971-bc7d73daeaf5"
      },
      "execution_count": 188,
      "outputs": [
        {
          "output_type": "execute_result",
          "data": {
            "text/plain": [
              "[300, 400, 500]"
            ]
          },
          "metadata": {},
          "execution_count": 188
        }
      ]
    },
    {
      "cell_type": "code",
      "source": [
        "mylist[-3:]"
      ],
      "metadata": {
        "colab": {
          "base_uri": "https://localhost:8080/"
        },
        "id": "1SLEJ3dMIitS",
        "outputId": "6ce4c1a6-10e8-496c-c6de-6b1719ac3167"
      },
      "execution_count": 189,
      "outputs": [
        {
          "output_type": "execute_result",
          "data": {
            "text/plain": [
              "[300, 400, 500]"
            ]
          },
          "metadata": {},
          "execution_count": 189
        }
      ]
    },
    {
      "cell_type": "markdown",
      "source": [
        "[:end]는 처음부터 end 전까지 추출"
      ],
      "metadata": {
        "id": "QpnFuVNMIsLa"
      }
    },
    {
      "cell_type": "code",
      "source": [
        "mylist[:3]"
      ],
      "metadata": {
        "colab": {
          "base_uri": "https://localhost:8080/"
        },
        "id": "KlN6A_swIs3P",
        "outputId": "109fe41f-3e8f-43ad-bbde-6b738074ecf7"
      },
      "execution_count": 190,
      "outputs": [
        {
          "output_type": "execute_result",
          "data": {
            "text/plain": [
              "[100, 200, 300]"
            ]
          },
          "metadata": {},
          "execution_count": 190
        }
      ]
    },
    {
      "cell_type": "markdown",
      "source": [
        "[start:end]는 start부터 end 전까지 추출"
      ],
      "metadata": {
        "id": "eaGGZFcDIwrc"
      }
    },
    {
      "cell_type": "code",
      "source": [
        "mylist[1:3]"
      ],
      "metadata": {
        "colab": {
          "base_uri": "https://localhost:8080/"
        },
        "id": "AgtNqJ6vIyUX",
        "outputId": "e7f8b8d3-7c66-4569-e61d-45cc677f304e"
      },
      "execution_count": 191,
      "outputs": [
        {
          "output_type": "execute_result",
          "data": {
            "text/plain": [
              "[200, 300]"
            ]
          },
          "metadata": {},
          "execution_count": 191
        }
      ]
    },
    {
      "cell_type": "markdown",
      "source": [
        "#####step"
      ],
      "metadata": {
        "id": "6lQwruOWI7QO"
      }
    },
    {
      "cell_type": "markdown",
      "source": [
        "-step은 몇 칸씩 건너 뛰는지 지정합니다."
      ],
      "metadata": {
        "id": "Ab37yNw1JCxI"
      }
    },
    {
      "cell_type": "markdown",
      "source": [
        "2칸씩 건너뛰기"
      ],
      "metadata": {
        "id": "Di5AXg85JN92"
      }
    },
    {
      "cell_type": "code",
      "source": [
        "mylist[::2]"
      ],
      "metadata": {
        "colab": {
          "base_uri": "https://localhost:8080/"
        },
        "id": "T7WfRQP3JGOt",
        "outputId": "f26ce871-e2c5-4b31-b224-7c7e71f22848"
      },
      "execution_count": 192,
      "outputs": [
        {
          "output_type": "execute_result",
          "data": {
            "text/plain": [
              "[100, 300, 500]"
            ]
          },
          "metadata": {},
          "execution_count": 192
        }
      ]
    },
    {
      "cell_type": "markdown",
      "source": [
        "역순"
      ],
      "metadata": {
        "id": "pKbDnTPCJPfG"
      }
    },
    {
      "cell_type": "code",
      "source": [
        "mylist[::-1]"
      ],
      "metadata": {
        "colab": {
          "base_uri": "https://localhost:8080/"
        },
        "id": "ffvZLvQdJJpP",
        "outputId": "4f693a09-bf07-45b6-f641-ec6c53652ed7"
      },
      "execution_count": 193,
      "outputs": [
        {
          "output_type": "execute_result",
          "data": {
            "text/plain": [
              "[500, 400, 300, 200, 100]"
            ]
          },
          "metadata": {},
          "execution_count": 193
        }
      ]
    },
    {
      "cell_type": "markdown",
      "source": [
        "역순 & 2칸씩 건너뛰기"
      ],
      "metadata": {
        "id": "2FBSvbqSJQ5K"
      }
    },
    {
      "cell_type": "code",
      "source": [
        "mylist[::-2]"
      ],
      "metadata": {
        "colab": {
          "base_uri": "https://localhost:8080/"
        },
        "id": "Eg_7SwKFJLQf",
        "outputId": "a8601314-681f-41c0-d203-93801dc2997a"
      },
      "execution_count": 194,
      "outputs": [
        {
          "output_type": "execute_result",
          "data": {
            "text/plain": [
              "[500, 300, 100]"
            ]
          },
          "metadata": {},
          "execution_count": 194
        }
      ]
    },
    {
      "cell_type": "markdown",
      "source": [
        "####list 덧셈"
      ],
      "metadata": {
        "id": "loFf4lg5JXCH"
      }
    },
    {
      "cell_type": "markdown",
      "source": [
        "-list 확장"
      ],
      "metadata": {
        "id": "QVbocfQ3Jeg2"
      }
    },
    {
      "cell_type": "code",
      "source": [
        "a = [1, 2, 3, 4]\n",
        "b = [5, 6, 7, 8]\n",
        "a + b"
      ],
      "metadata": {
        "colab": {
          "base_uri": "https://localhost:8080/"
        },
        "id": "5xJDIfZAJiHo",
        "outputId": "a9616e7f-2cdf-4fce-bb3a-03ea16542364"
      },
      "execution_count": 195,
      "outputs": [
        {
          "output_type": "execute_result",
          "data": {
            "text/plain": [
              "[1, 2, 3, 4, 5, 6, 7, 8]"
            ]
          },
          "metadata": {},
          "execution_count": 195
        }
      ]
    },
    {
      "cell_type": "code",
      "source": [
        "a = ['a', 'b', 'c']\n",
        "b = ['d', 'e', 'f']\n",
        "a + b"
      ],
      "metadata": {
        "colab": {
          "base_uri": "https://localhost:8080/"
        },
        "id": "cPbPIRQKJlKN",
        "outputId": "cc3bebd7-06e2-49c9-c635-0427468987c7"
      },
      "execution_count": 196,
      "outputs": [
        {
          "output_type": "execute_result",
          "data": {
            "text/plain": [
              "['a', 'b', 'c', 'd', 'e', 'f']"
            ]
          },
          "metadata": {},
          "execution_count": 196
        }
      ]
    },
    {
      "cell_type": "markdown",
      "source": [
        "####list 곱셈"
      ],
      "metadata": {
        "id": "Du6nofQ4JrI6"
      }
    },
    {
      "cell_type": "markdown",
      "source": [
        "-list*n: list를 n만큼 반복"
      ],
      "metadata": {
        "id": "udSbdTaUJuZ5"
      }
    },
    {
      "cell_type": "code",
      "source": [
        "a = ['a', 'b', 'c']\n",
        "b = [1, 2, 3, 4]\n",
        "a * 2"
      ],
      "metadata": {
        "colab": {
          "base_uri": "https://localhost:8080/"
        },
        "id": "Ix3aKHKWJ2TJ",
        "outputId": "566a196a-06df-4fcb-cefe-377e61023578"
      },
      "execution_count": 197,
      "outputs": [
        {
          "output_type": "execute_result",
          "data": {
            "text/plain": [
              "['a', 'b', 'c', 'a', 'b', 'c']"
            ]
          },
          "metadata": {},
          "execution_count": 197
        }
      ]
    },
    {
      "cell_type": "code",
      "source": [
        "b * 3"
      ],
      "metadata": {
        "colab": {
          "base_uri": "https://localhost:8080/"
        },
        "id": "saSaabSjJ5aV",
        "outputId": "8807c749-e85e-43d2-8748-fc9cde44c722"
      },
      "execution_count": 198,
      "outputs": [
        {
          "output_type": "execute_result",
          "data": {
            "text/plain": [
              "[1, 2, 3, 4, 1, 2, 3, 4, 1, 2, 3, 4]"
            ]
          },
          "metadata": {},
          "execution_count": 198
        }
      ]
    },
    {
      "cell_type": "markdown",
      "source": [
        "##tuple"
      ],
      "metadata": {
        "id": "5IKlo3riKHj-"
      }
    },
    {
      "cell_type": "markdown",
      "source": [
        "-불변 객체<br>\n",
        "-요소에 대한 수정, 삭제, 변경이 불가<br>\n",
        "-tuple(),(), ',' 로 생성"
      ],
      "metadata": {
        "id": "Ek4SJYtNKKfg"
      }
    },
    {
      "cell_type": "markdown",
      "source": [
        "()사용"
      ],
      "metadata": {
        "id": "Ykg3blH5KxTC"
      }
    },
    {
      "cell_type": "code",
      "source": [
        "mytuple = (1, 2, 3)\n",
        "mytuple"
      ],
      "metadata": {
        "colab": {
          "base_uri": "https://localhost:8080/"
        },
        "id": "1y1X4aBcKYrM",
        "outputId": "0a2443de-ec80-48ec-8809-9d531c04bde3"
      },
      "execution_count": 199,
      "outputs": [
        {
          "output_type": "execute_result",
          "data": {
            "text/plain": [
              "(1, 2, 3)"
            ]
          },
          "metadata": {},
          "execution_count": 199
        }
      ]
    },
    {
      "cell_type": "markdown",
      "source": [
        "tuple() 사용"
      ],
      "metadata": {
        "id": "SxfAvraSK1Km"
      }
    },
    {
      "cell_type": "code",
      "source": [
        "mytuple = tuple([1, 2, 3])\n",
        "mytuple"
      ],
      "metadata": {
        "colab": {
          "base_uri": "https://localhost:8080/"
        },
        "id": "JOfUmMr_K0Hq",
        "outputId": "9dfbf290-3ae2-4cc4-cd79-4aa5e9582aba"
      },
      "execution_count": 200,
      "outputs": [
        {
          "output_type": "execute_result",
          "data": {
            "text/plain": [
              "(1, 2, 3)"
            ]
          },
          "metadata": {},
          "execution_count": 200
        }
      ]
    },
    {
      "cell_type": "markdown",
      "source": [
        ", 사용"
      ],
      "metadata": {
        "id": "kgqpLWdxK6s-"
      }
    },
    {
      "cell_type": "code",
      "source": [
        "mytuple = 1, 2, 3\n",
        "mytuple"
      ],
      "metadata": {
        "colab": {
          "base_uri": "https://localhost:8080/"
        },
        "id": "rpGbHifYK8Wt",
        "outputId": "f8578c60-371e-4517-82c1-a715809c8a6e"
      },
      "execution_count": 201,
      "outputs": [
        {
          "output_type": "execute_result",
          "data": {
            "text/plain": [
              "(1, 2, 3)"
            ]
          },
          "metadata": {},
          "execution_count": 201
        }
      ]
    },
    {
      "cell_type": "markdown",
      "source": [
        "#####(1,)과 (1)은 다른 자료구조"
      ],
      "metadata": {
        "id": "e1ShcWpzLB8N"
      }
    },
    {
      "cell_type": "code",
      "source": [
        "mytuple = (1,)\n",
        "print(type(mytuple))\n",
        "mytuple"
      ],
      "metadata": {
        "colab": {
          "base_uri": "https://localhost:8080/"
        },
        "id": "QpApvCTQLISY",
        "outputId": "78bac593-83de-4fd1-8910-dfc8c23fa979"
      },
      "execution_count": 202,
      "outputs": [
        {
          "output_type": "stream",
          "name": "stdout",
          "text": [
            "<class 'tuple'>\n"
          ]
        },
        {
          "output_type": "execute_result",
          "data": {
            "text/plain": [
              "(1,)"
            ]
          },
          "metadata": {},
          "execution_count": 202
        }
      ]
    },
    {
      "cell_type": "code",
      "source": [
        "mytuple = (1)\n",
        "print(type(mytuple))\n",
        "mytuple"
      ],
      "metadata": {
        "colab": {
          "base_uri": "https://localhost:8080/"
        },
        "id": "hvuYrl1jLPQM",
        "outputId": "f4861a79-6766-4d62-b838-30f860dd0d0a"
      },
      "execution_count": 203,
      "outputs": [
        {
          "output_type": "stream",
          "name": "stdout",
          "text": [
            "<class 'int'>\n"
          ]
        },
        {
          "output_type": "execute_result",
          "data": {
            "text/plain": [
              "1"
            ]
          },
          "metadata": {},
          "execution_count": 203
        }
      ]
    },
    {
      "cell_type": "markdown",
      "source": [
        "####튜플 언팩킹"
      ],
      "metadata": {
        "id": "v5PPD4GpLeba"
      }
    },
    {
      "cell_type": "markdown",
      "source": [
        "-여러 변수에 값을 한번에 할당 가능"
      ],
      "metadata": {
        "id": "zB-2RNAaLiEM"
      }
    },
    {
      "cell_type": "code",
      "source": [
        "a, b, c = 1, 2, 3\n",
        "\n",
        "print(a)\n",
        "print(b)\n",
        "print(c)"
      ],
      "metadata": {
        "colab": {
          "base_uri": "https://localhost:8080/"
        },
        "id": "AomVq35HLnAc",
        "outputId": "e5636a54-b8a7-41c0-e80b-70f9cdcb8ca6"
      },
      "execution_count": 204,
      "outputs": [
        {
          "output_type": "stream",
          "name": "stdout",
          "text": [
            "1\n",
            "2\n",
            "3\n"
          ]
        }
      ]
    },
    {
      "cell_type": "markdown",
      "source": [
        "####튜플은 요소의 변경, 삭제, 추가를 허용하지 않음"
      ],
      "metadata": {
        "id": "o4g7WChsLpud"
      }
    },
    {
      "cell_type": "code",
      "source": [
        "mytuple = (1, 2, 3)"
      ],
      "metadata": {
        "id": "Xj8ho4weLv13"
      },
      "execution_count": 205,
      "outputs": []
    },
    {
      "cell_type": "markdown",
      "source": [
        "요소를 변경, 삭제 할 경우 오류 뜸"
      ],
      "metadata": {
        "id": "5Ag2KxHZL5s1"
      }
    },
    {
      "cell_type": "code",
      "source": [
        "mytuple[1] = 100"
      ],
      "metadata": {
        "colab": {
          "base_uri": "https://localhost:8080/",
          "height": 176
        },
        "id": "W32Xn33jLzP_",
        "outputId": "fa6790eb-fe06-4645-dea1-143a1ce381c3"
      },
      "execution_count": 206,
      "outputs": [
        {
          "output_type": "error",
          "ename": "TypeError",
          "evalue": "ignored",
          "traceback": [
            "\u001b[0;31m---------------------------------------------------------------------------\u001b[0m",
            "\u001b[0;31mTypeError\u001b[0m                                 Traceback (most recent call last)",
            "\u001b[0;32m<ipython-input-206-302beb1444a7>\u001b[0m in \u001b[0;36m<module>\u001b[0;34m()\u001b[0m\n\u001b[0;32m----> 1\u001b[0;31m \u001b[0mmytuple\u001b[0m\u001b[0;34m[\u001b[0m\u001b[0;36m1\u001b[0m\u001b[0;34m]\u001b[0m \u001b[0;34m=\u001b[0m \u001b[0;36m100\u001b[0m\u001b[0;34m\u001b[0m\u001b[0;34m\u001b[0m\u001b[0m\n\u001b[0m",
            "\u001b[0;31mTypeError\u001b[0m: 'tuple' object does not support item assignment"
          ]
        }
      ]
    },
    {
      "cell_type": "code",
      "source": [
        "del mytuple[1]"
      ],
      "metadata": {
        "colab": {
          "base_uri": "https://localhost:8080/",
          "height": 176
        },
        "id": "sZSDtlIhL4Da",
        "outputId": "8439ade7-940b-4be1-d6de-3a7c95b5bf09"
      },
      "execution_count": 208,
      "outputs": [
        {
          "output_type": "error",
          "ename": "TypeError",
          "evalue": "ignored",
          "traceback": [
            "\u001b[0;31m---------------------------------------------------------------------------\u001b[0m",
            "\u001b[0;31mTypeError\u001b[0m                                 Traceback (most recent call last)",
            "\u001b[0;32m<ipython-input-208-011fbf932d04>\u001b[0m in \u001b[0;36m<module>\u001b[0;34m()\u001b[0m\n\u001b[0;32m----> 1\u001b[0;31m \u001b[0;32mdel\u001b[0m \u001b[0mmytuple\u001b[0m\u001b[0;34m[\u001b[0m\u001b[0;36m1\u001b[0m\u001b[0;34m]\u001b[0m\u001b[0;34m\u001b[0m\u001b[0;34m\u001b[0m\u001b[0m\n\u001b[0m",
            "\u001b[0;31mTypeError\u001b[0m: 'tuple' object doesn't support item deletion"
          ]
        }
      ]
    },
    {
      "cell_type": "markdown",
      "source": [
        "####튜플 덧셈"
      ],
      "metadata": {
        "id": "kzKdGFupMFVM"
      }
    },
    {
      "cell_type": "markdown",
      "source": [
        "-튜플 확장"
      ],
      "metadata": {
        "id": "gJ_Zq8jGMH8l"
      }
    },
    {
      "cell_type": "code",
      "source": [
        "a = (1, 2)\n",
        "b = (3, 4)\n",
        "a + b"
      ],
      "metadata": {
        "colab": {
          "base_uri": "https://localhost:8080/"
        },
        "id": "LlsH5AlZMJ79",
        "outputId": "da5748e9-14d8-448f-ed4d-dee5df3c7baa"
      },
      "execution_count": 209,
      "outputs": [
        {
          "output_type": "execute_result",
          "data": {
            "text/plain": [
              "(1, 2, 3, 4)"
            ]
          },
          "metadata": {},
          "execution_count": 209
        }
      ]
    },
    {
      "cell_type": "markdown",
      "source": [
        "####튜플 곱셈"
      ],
      "metadata": {
        "id": "dIzR_Ib8MM2p"
      }
    },
    {
      "cell_type": "markdown",
      "source": [
        "-tuple * n: tuple을 n번 반복"
      ],
      "metadata": {
        "id": "oL8_PfA8MPfZ"
      }
    },
    {
      "cell_type": "code",
      "source": [
        "a=(1, 2)\n",
        "a * 3"
      ],
      "metadata": {
        "colab": {
          "base_uri": "https://localhost:8080/"
        },
        "id": "EA3ZljU8MMRt",
        "outputId": "f7ba6fe5-560c-449a-eccd-3cb91f770eff"
      },
      "execution_count": 210,
      "outputs": [
        {
          "output_type": "execute_result",
          "data": {
            "text/plain": [
              "(1, 2, 1, 2, 1, 2)"
            ]
          },
          "metadata": {},
          "execution_count": 210
        }
      ]
    },
    {
      "cell_type": "markdown",
      "source": [
        "####길이 파악"
      ],
      "metadata": {
        "id": "-Cypt-rmMglQ"
      }
    },
    {
      "cell_type": "code",
      "source": [
        "a=(1, 2)\n",
        "len(a)"
      ],
      "metadata": {
        "colab": {
          "base_uri": "https://localhost:8080/"
        },
        "id": "J8fsZoy2MkVa",
        "outputId": "e73a8d0a-8a38-417c-9299-09d0d27cb96c"
      },
      "execution_count": 211,
      "outputs": [
        {
          "output_type": "execute_result",
          "data": {
            "text/plain": [
              "2"
            ]
          },
          "metadata": {},
          "execution_count": 211
        }
      ]
    },
    {
      "cell_type": "markdown",
      "source": [
        "####list를 tuple로 변환"
      ],
      "metadata": {
        "id": "qDoDBHZSMxsM"
      }
    },
    {
      "cell_type": "code",
      "source": [
        "a = [1, 2, 3, 4]\n",
        "type(a)"
      ],
      "metadata": {
        "colab": {
          "base_uri": "https://localhost:8080/"
        },
        "id": "1J2LWD87M3WF",
        "outputId": "4249f09a-9cf5-47fd-bdc1-ff27bec02c55"
      },
      "execution_count": 212,
      "outputs": [
        {
          "output_type": "execute_result",
          "data": {
            "text/plain": [
              "list"
            ]
          },
          "metadata": {},
          "execution_count": 212
        }
      ]
    },
    {
      "cell_type": "code",
      "source": [
        "b = tuple(a)\n",
        "type(b)"
      ],
      "metadata": {
        "colab": {
          "base_uri": "https://localhost:8080/"
        },
        "id": "uCKu8_jCM8NP",
        "outputId": "fc3d6f26-2bee-4679-fafb-1d6737952cae"
      },
      "execution_count": 213,
      "outputs": [
        {
          "output_type": "execute_result",
          "data": {
            "text/plain": [
              "tuple"
            ]
          },
          "metadata": {},
          "execution_count": 213
        }
      ]
    },
    {
      "cell_type": "markdown",
      "source": [
        "####tuple을 list로 변환"
      ],
      "metadata": {
        "id": "G64iIN9wNELF"
      }
    },
    {
      "cell_type": "code",
      "source": [
        "a = (1, 2, 3, 4)\n",
        "type(a)"
      ],
      "metadata": {
        "colab": {
          "base_uri": "https://localhost:8080/"
        },
        "id": "nXWVCz-QNJG4",
        "outputId": "32248c16-3a98-45e5-e41b-72edb6067c3c"
      },
      "execution_count": 214,
      "outputs": [
        {
          "output_type": "execute_result",
          "data": {
            "text/plain": [
              "tuple"
            ]
          },
          "metadata": {},
          "execution_count": 214
        }
      ]
    },
    {
      "cell_type": "code",
      "source": [
        "b = list(a)\n",
        "type(b)"
      ],
      "metadata": {
        "colab": {
          "base_uri": "https://localhost:8080/"
        },
        "id": "pC0oTlarNNAH",
        "outputId": "eef6e535-857c-4cdb-a718-f1a7c4e5e850"
      },
      "execution_count": 215,
      "outputs": [
        {
          "output_type": "execute_result",
          "data": {
            "text/plain": [
              "list"
            ]
          },
          "metadata": {},
          "execution_count": 215
        }
      ]
    },
    {
      "cell_type": "markdown",
      "source": [
        "list로 타입을 변경했기에 요소의 추가, 삭제, 변경 가능"
      ],
      "metadata": {
        "id": "cuejHn3MNRe1"
      }
    },
    {
      "cell_type": "code",
      "source": [
        "b.append(5)\n",
        "b"
      ],
      "metadata": {
        "colab": {
          "base_uri": "https://localhost:8080/"
        },
        "id": "_a2Mzfq2NaNN",
        "outputId": "3d476017-fea8-471e-bb0b-b442f9017b47"
      },
      "execution_count": 216,
      "outputs": [
        {
          "output_type": "execute_result",
          "data": {
            "text/plain": [
              "[1, 2, 3, 4, 5]"
            ]
          },
          "metadata": {},
          "execution_count": 216
        }
      ]
    },
    {
      "cell_type": "code",
      "source": [
        "b.remove(2)\n",
        "b"
      ],
      "metadata": {
        "colab": {
          "base_uri": "https://localhost:8080/"
        },
        "id": "hx6guMZwNdPT",
        "outputId": "bf559325-e77a-42d9-aaf4-869508ec422c"
      },
      "execution_count": 217,
      "outputs": [
        {
          "output_type": "execute_result",
          "data": {
            "text/plain": [
              "[1, 3, 4, 5]"
            ]
          },
          "metadata": {},
          "execution_count": 217
        }
      ]
    },
    {
      "cell_type": "code",
      "source": [
        "b[1]=2\n",
        "b"
      ],
      "metadata": {
        "colab": {
          "base_uri": "https://localhost:8080/"
        },
        "id": "3NIbEUGaNqZS",
        "outputId": "7c30f392-147b-4614-c8d6-0691f34219fb"
      },
      "execution_count": 218,
      "outputs": [
        {
          "output_type": "execute_result",
          "data": {
            "text/plain": [
              "[1, 2, 4, 5]"
            ]
          },
          "metadata": {},
          "execution_count": 218
        }
      ]
    },
    {
      "cell_type": "markdown",
      "source": [
        "요소를 추가 밒 삭제 한 후 다시 tuple로 변경가능"
      ],
      "metadata": {
        "id": "-02k_jWqNfQA"
      }
    },
    {
      "cell_type": "code",
      "source": [
        "c = tuple(b)\n",
        "c"
      ],
      "metadata": {
        "colab": {
          "base_uri": "https://localhost:8080/"
        },
        "id": "YojwCHeGN4AV",
        "outputId": "ec4e6fac-bcb7-4865-9afe-5f2fc70c8624"
      },
      "execution_count": 219,
      "outputs": [
        {
          "output_type": "execute_result",
          "data": {
            "text/plain": [
              "(1, 2, 4, 5)"
            ]
          },
          "metadata": {},
          "execution_count": 219
        }
      ]
    },
    {
      "cell_type": "code",
      "source": [
        "type(c)"
      ],
      "metadata": {
        "colab": {
          "base_uri": "https://localhost:8080/"
        },
        "id": "S9l2ff2fN7VP",
        "outputId": "555ca429-a26e-4029-8ba3-f54747cb6150"
      },
      "execution_count": 220,
      "outputs": [
        {
          "output_type": "execute_result",
          "data": {
            "text/plain": [
              "tuple"
            ]
          },
          "metadata": {},
          "execution_count": 220
        }
      ]
    },
    {
      "cell_type": "markdown",
      "source": [
        "##set"
      ],
      "metadata": {
        "id": "a42nfyPROJ3-"
      }
    },
    {
      "cell_type": "markdown",
      "source": [
        "-순서 X<br>\n",
        "-중복 허용 안됨<br>\n",
        "-{}를 사용하여 생성"
      ],
      "metadata": {
        "id": "pZYBBrzsOUjp"
      }
    },
    {
      "cell_type": "markdown",
      "source": [
        "####생성"
      ],
      "metadata": {
        "id": "pGQwqLpnOhZi"
      }
    },
    {
      "cell_type": "markdown",
      "source": [
        "빈 set"
      ],
      "metadata": {
        "id": "iQMrwyAlPBEU"
      }
    },
    {
      "cell_type": "code",
      "source": [
        "myset = set()\n",
        "myset"
      ],
      "metadata": {
        "colab": {
          "base_uri": "https://localhost:8080/"
        },
        "id": "B3g5vaPWOnkz",
        "outputId": "37df40c4-3419-4591-8344-535b0643d199"
      },
      "execution_count": 221,
      "outputs": [
        {
          "output_type": "execute_result",
          "data": {
            "text/plain": [
              "set()"
            ]
          },
          "metadata": {},
          "execution_count": 221
        }
      ]
    },
    {
      "cell_type": "code",
      "source": [
        "myset = set([1, 1, 1, 2, 2, 2, 3, 3, 3])\n",
        "myset"
      ],
      "metadata": {
        "colab": {
          "base_uri": "https://localhost:8080/"
        },
        "id": "7gmODk_lOvxN",
        "outputId": "a471424e-11ed-434c-891d-efc309a4b630"
      },
      "execution_count": 222,
      "outputs": [
        {
          "output_type": "execute_result",
          "data": {
            "text/plain": [
              "{1, 2, 3}"
            ]
          },
          "metadata": {},
          "execution_count": 222
        }
      ]
    },
    {
      "cell_type": "code",
      "source": [
        "myset = set((1, 1, 1, 2, 3, 3, 4, 5, 5, 5))\n",
        "myset"
      ],
      "metadata": {
        "colab": {
          "base_uri": "https://localhost:8080/"
        },
        "id": "PG0yhlnLPoL8",
        "outputId": "d357baa0-55a5-4efb-af68-a8d56eebba8e"
      },
      "execution_count": 223,
      "outputs": [
        {
          "output_type": "execute_result",
          "data": {
            "text/plain": [
              "{1, 2, 3, 4, 5}"
            ]
          },
          "metadata": {},
          "execution_count": 223
        }
      ]
    },
    {
      "cell_type": "code",
      "source": [
        "myset = {1, 1, 1, 2, 2, 2, 3, 3, 3}\n",
        "myset"
      ],
      "metadata": {
        "colab": {
          "base_uri": "https://localhost:8080/"
        },
        "id": "7MSPcSfEPvwM",
        "outputId": "f049053f-2254-414b-b548-de17c0a7253c"
      },
      "execution_count": 224,
      "outputs": [
        {
          "output_type": "execute_result",
          "data": {
            "text/plain": [
              "{1, 2, 3}"
            ]
          },
          "metadata": {},
          "execution_count": 224
        }
      ]
    },
    {
      "cell_type": "markdown",
      "source": [
        "####add()"
      ],
      "metadata": {
        "id": "vqgX-PnyPJhC"
      }
    },
    {
      "cell_type": "markdown",
      "source": [
        "-set에 요소 추가"
      ],
      "metadata": {
        "id": "KMSl5OE3P0U6"
      }
    },
    {
      "cell_type": "code",
      "source": [
        "myset = set()"
      ],
      "metadata": {
        "id": "mvdo3QhVP6QC"
      },
      "execution_count": 225,
      "outputs": []
    },
    {
      "cell_type": "code",
      "source": [
        "myset.add(1)\n",
        "myset.add(2)\n",
        "myset.add(3)\n",
        "\n",
        "myset.add(1)\n",
        "myset.add(2)\n",
        "myset.add(3)\n",
        "\n",
        "myset.add(1)\n",
        "myset.add(2)\n",
        "myset.add(3)"
      ],
      "metadata": {
        "id": "V13rk8jNP7w5"
      },
      "execution_count": 226,
      "outputs": []
    },
    {
      "cell_type": "markdown",
      "source": [
        "요소를 중복하여 추가하면 중복이 제거된 요소만 출력"
      ],
      "metadata": {
        "id": "Du2yCcCzQBWb"
      }
    },
    {
      "cell_type": "code",
      "source": [
        "myset"
      ],
      "metadata": {
        "colab": {
          "base_uri": "https://localhost:8080/"
        },
        "id": "riJ0NbigQKU6",
        "outputId": "15d5c82b-cb0b-4f8b-baa1-fb4a0fa88103"
      },
      "execution_count": 227,
      "outputs": [
        {
          "output_type": "execute_result",
          "data": {
            "text/plain": [
              "{1, 2, 3}"
            ]
          },
          "metadata": {},
          "execution_count": 227
        }
      ]
    },
    {
      "cell_type": "markdown",
      "source": [
        "####update()"
      ],
      "metadata": {
        "id": "kE1owCH6QN3F"
      }
    },
    {
      "cell_type": "markdown",
      "source": [
        "-여러개의 값을 한꺼번에 추가하고자 할 때는 update() 메서드를 사용"
      ],
      "metadata": {
        "id": "oS-qk9-eQW75"
      }
    },
    {
      "cell_type": "code",
      "source": [
        "myset = {1, 2, 3}"
      ],
      "metadata": {
        "id": "6xyhJvxOQU28"
      },
      "execution_count": 228,
      "outputs": []
    },
    {
      "cell_type": "markdown",
      "source": [
        "list의 요소 update"
      ],
      "metadata": {
        "id": "ruMnhJp8Qgzc"
      }
    },
    {
      "cell_type": "code",
      "source": [
        "myset.update([4, 5, 6])\n",
        "myset"
      ],
      "metadata": {
        "colab": {
          "base_uri": "https://localhost:8080/"
        },
        "id": "bMqnhnzXQdZw",
        "outputId": "2e628148-afcb-44e9-e62f-952c2a6803c3"
      },
      "execution_count": 229,
      "outputs": [
        {
          "output_type": "execute_result",
          "data": {
            "text/plain": [
              "{1, 2, 3, 4, 5, 6}"
            ]
          },
          "metadata": {},
          "execution_count": 229
        }
      ]
    },
    {
      "cell_type": "markdown",
      "source": [
        "tuple의 요소 update"
      ],
      "metadata": {
        "id": "UmSpaCIkQkLa"
      }
    },
    {
      "cell_type": "code",
      "source": [
        "myset.update({10, 11, 12})\n",
        "myset"
      ],
      "metadata": {
        "colab": {
          "base_uri": "https://localhost:8080/"
        },
        "id": "MTl_o0ZGQnKF",
        "outputId": "9ad4f9dd-210c-4c0b-e4c4-8114763b2a99"
      },
      "execution_count": 230,
      "outputs": [
        {
          "output_type": "execute_result",
          "data": {
            "text/plain": [
              "{1, 2, 3, 4, 5, 6, 10, 11, 12}"
            ]
          },
          "metadata": {},
          "execution_count": 230
        }
      ]
    },
    {
      "cell_type": "markdown",
      "source": [
        "####remove()"
      ],
      "metadata": {
        "id": "xJKdSRe8Qq_t"
      }
    },
    {
      "cell_type": "markdown",
      "source": [
        "-단일 요소 제거"
      ],
      "metadata": {
        "id": "W3vxGm0WQu4V"
      }
    },
    {
      "cell_type": "code",
      "source": [
        "myset = {1, 2, 3, 4, 5}"
      ],
      "metadata": {
        "id": "ydyDvE2WQx7b"
      },
      "execution_count": 231,
      "outputs": []
    },
    {
      "cell_type": "code",
      "source": [
        "myset.remove(2)\n",
        "myset"
      ],
      "metadata": {
        "colab": {
          "base_uri": "https://localhost:8080/"
        },
        "id": "tD-awIpEQ0eJ",
        "outputId": "70f8a780-7c67-4405-d5e8-4d7385d09ebe"
      },
      "execution_count": 232,
      "outputs": [
        {
          "output_type": "execute_result",
          "data": {
            "text/plain": [
              "{1, 3, 4, 5}"
            ]
          },
          "metadata": {},
          "execution_count": 232
        }
      ]
    },
    {
      "cell_type": "markdown",
      "source": [
        "####교집합 (intersection)"
      ],
      "metadata": {
        "id": "G8ly6cezREWY"
      }
    },
    {
      "cell_type": "markdown",
      "source": [
        "-집합들의 공통된 요소<br>\n",
        "-&, intersection() 메서드 활용"
      ],
      "metadata": {
        "id": "yn3PYaWRRJ3-"
      }
    },
    {
      "cell_type": "code",
      "source": [
        "a = {1, 2, 3, 4, 5}\n",
        "b = {3, 4, 5, 6, 7}\n",
        "a & b"
      ],
      "metadata": {
        "colab": {
          "base_uri": "https://localhost:8080/"
        },
        "id": "YT8PS-zzRXCb",
        "outputId": "0da899bc-bb86-44a5-cf7d-27a1a4a6f201"
      },
      "execution_count": 233,
      "outputs": [
        {
          "output_type": "execute_result",
          "data": {
            "text/plain": [
              "{3, 4, 5}"
            ]
          },
          "metadata": {},
          "execution_count": 233
        }
      ]
    },
    {
      "cell_type": "code",
      "source": [
        "a.intersection(b)"
      ],
      "metadata": {
        "colab": {
          "base_uri": "https://localhost:8080/"
        },
        "id": "nJkQ4XQPRcKM",
        "outputId": "aa30ac6b-6e0f-412a-f5cf-688942056366"
      },
      "execution_count": 234,
      "outputs": [
        {
          "output_type": "execute_result",
          "data": {
            "text/plain": [
              "{3, 4, 5}"
            ]
          },
          "metadata": {},
          "execution_count": 234
        }
      ]
    },
    {
      "cell_type": "markdown",
      "source": [
        "####합집합 (union)"
      ],
      "metadata": {
        "id": "0VGNKwx-RglN"
      }
    },
    {
      "cell_type": "markdown",
      "source": [
        "-집합들의 모든 요소<br>\n",
        "-|, union() 메서드 활용"
      ],
      "metadata": {
        "id": "raFBCwJsRlIk"
      }
    },
    {
      "cell_type": "code",
      "source": [
        "a = {1, 2, 3, 4, 5}\n",
        "b = {3, 4, 5, 6, 7}\n",
        "a | b"
      ],
      "metadata": {
        "colab": {
          "base_uri": "https://localhost:8080/"
        },
        "id": "9OHrgRnDR1e3",
        "outputId": "ee62f97a-e4d4-4326-91c3-113d990d079a"
      },
      "execution_count": 235,
      "outputs": [
        {
          "output_type": "execute_result",
          "data": {
            "text/plain": [
              "{1, 2, 3, 4, 5, 6, 7}"
            ]
          },
          "metadata": {},
          "execution_count": 235
        }
      ]
    },
    {
      "cell_type": "code",
      "source": [
        "a.union(b)"
      ],
      "metadata": {
        "colab": {
          "base_uri": "https://localhost:8080/"
        },
        "id": "iF9BkuVuR4yO",
        "outputId": "eb08f2db-f284-48de-fc34-4e6e206bb8c8"
      },
      "execution_count": 236,
      "outputs": [
        {
          "output_type": "execute_result",
          "data": {
            "text/plain": [
              "{1, 2, 3, 4, 5, 6, 7}"
            ]
          },
          "metadata": {},
          "execution_count": 236
        }
      ]
    },
    {
      "cell_type": "markdown",
      "source": [
        "####차집합 (difference)"
      ],
      "metadata": {
        "id": "QoubCQToR8FZ"
      }
    },
    {
      "cell_type": "markdown",
      "source": [
        "-두 집합에서, 하나의 집합에 포함되고 다른 집합에는 포함되지 않는 모든 원소의 집합<br>\n",
        "-difference() 메서드나 - 연산자 활용"
      ],
      "metadata": {
        "id": "53qmvdwBSCMo"
      }
    },
    {
      "cell_type": "code",
      "source": [
        "a = {1, 2, 3, 4, 5}\n",
        "b = {3, 4, 5, 6, 7}"
      ],
      "metadata": {
        "id": "gOYqpa6MSXqO"
      },
      "execution_count": 237,
      "outputs": []
    },
    {
      "cell_type": "markdown",
      "source": [
        "a 집합에서 b 집합을 뺀 차집합"
      ],
      "metadata": {
        "id": "kcDWuksJSiwe"
      }
    },
    {
      "cell_type": "code",
      "source": [
        "a - b"
      ],
      "metadata": {
        "colab": {
          "base_uri": "https://localhost:8080/"
        },
        "id": "DiHt4kdKSbPp",
        "outputId": "9ab2167e-7d0f-4de8-e425-9550fa798a31"
      },
      "execution_count": 238,
      "outputs": [
        {
          "output_type": "execute_result",
          "data": {
            "text/plain": [
              "{1, 2}"
            ]
          },
          "metadata": {},
          "execution_count": 238
        }
      ]
    },
    {
      "cell_type": "code",
      "source": [
        "a.difference(b)"
      ],
      "metadata": {
        "colab": {
          "base_uri": "https://localhost:8080/"
        },
        "id": "xErSM-loSd4J",
        "outputId": "b068d30f-ff4d-4170-8a0a-d103e8be4215"
      },
      "execution_count": 239,
      "outputs": [
        {
          "output_type": "execute_result",
          "data": {
            "text/plain": [
              "{1, 2}"
            ]
          },
          "metadata": {},
          "execution_count": 239
        }
      ]
    },
    {
      "cell_type": "markdown",
      "source": [
        "b 집합에서 a 집합을 뺀 차집합"
      ],
      "metadata": {
        "id": "EO_84CAASme2"
      }
    },
    {
      "cell_type": "code",
      "source": [
        "b - a"
      ],
      "metadata": {
        "colab": {
          "base_uri": "https://localhost:8080/"
        },
        "id": "gA9sjo0bSn6w",
        "outputId": "64e12eea-dedf-449c-8675-d7878d8bf377"
      },
      "execution_count": 240,
      "outputs": [
        {
          "output_type": "execute_result",
          "data": {
            "text/plain": [
              "{6, 7}"
            ]
          },
          "metadata": {},
          "execution_count": 240
        }
      ]
    },
    {
      "cell_type": "code",
      "source": [
        "b.difference(a)"
      ],
      "metadata": {
        "colab": {
          "base_uri": "https://localhost:8080/"
        },
        "id": "hpEjSuaXSpLe",
        "outputId": "c88d8ed4-9d89-4f47-fdb1-4ff090b3fd72"
      },
      "execution_count": 241,
      "outputs": [
        {
          "output_type": "execute_result",
          "data": {
            "text/plain": [
              "{6, 7}"
            ]
          },
          "metadata": {},
          "execution_count": 241
        }
      ]
    },
    {
      "cell_type": "markdown",
      "source": [
        "####set를 list로 변환"
      ],
      "metadata": {
        "id": "cH_KjT8USs4s"
      }
    },
    {
      "cell_type": "code",
      "source": [
        "a = {1, 2, 3, 4, 5}\n",
        "type(a)"
      ],
      "metadata": {
        "colab": {
          "base_uri": "https://localhost:8080/"
        },
        "id": "TABM67jxSySM",
        "outputId": "1a9c0a8d-de00-4a45-ce84-c2f6d92c8edf"
      },
      "execution_count": 242,
      "outputs": [
        {
          "output_type": "execute_result",
          "data": {
            "text/plain": [
              "set"
            ]
          },
          "metadata": {},
          "execution_count": 242
        }
      ]
    },
    {
      "cell_type": "code",
      "source": [
        "b = list(a)\n",
        "b"
      ],
      "metadata": {
        "colab": {
          "base_uri": "https://localhost:8080/"
        },
        "id": "sW8YG-2NSztU",
        "outputId": "567ec4f9-8cdf-44dd-b5db-b0651a2137a9"
      },
      "execution_count": 243,
      "outputs": [
        {
          "output_type": "execute_result",
          "data": {
            "text/plain": [
              "[1, 2, 3, 4, 5]"
            ]
          },
          "metadata": {},
          "execution_count": 243
        }
      ]
    },
    {
      "cell_type": "code",
      "source": [
        "type(b)"
      ],
      "metadata": {
        "colab": {
          "base_uri": "https://localhost:8080/"
        },
        "id": "-YryBHHDS1Y_",
        "outputId": "e9474086-ab50-41d8-8632-dc17b05ab551"
      },
      "execution_count": 244,
      "outputs": [
        {
          "output_type": "execute_result",
          "data": {
            "text/plain": [
              "list"
            ]
          },
          "metadata": {},
          "execution_count": 244
        }
      ]
    },
    {
      "cell_type": "markdown",
      "source": [
        "list를 set로 변환"
      ],
      "metadata": {
        "id": "iLdOl4GmS6zS"
      }
    },
    {
      "cell_type": "markdown",
      "source": [
        "-중복 제거에 많이 사용 (set는 중복허용 X)"
      ],
      "metadata": {
        "id": "XVtgyFooS_n2"
      }
    },
    {
      "cell_type": "code",
      "source": [
        "a = [1, 1, 1, 2, 2, 2, 3, 3, 3]\n",
        "a"
      ],
      "metadata": {
        "colab": {
          "base_uri": "https://localhost:8080/"
        },
        "id": "G042bGRSTbbU",
        "outputId": "4fad8922-84c5-49da-b470-d5904d2fd639"
      },
      "execution_count": 245,
      "outputs": [
        {
          "output_type": "execute_result",
          "data": {
            "text/plain": [
              "[1, 1, 1, 2, 2, 2, 3, 3, 3]"
            ]
          },
          "metadata": {},
          "execution_count": 245
        }
      ]
    },
    {
      "cell_type": "code",
      "source": [
        "type(a)"
      ],
      "metadata": {
        "colab": {
          "base_uri": "https://localhost:8080/"
        },
        "id": "e_CYuwoMTc5s",
        "outputId": "d4ba8ae0-d4f3-4681-aba7-a199b41bcc56"
      },
      "execution_count": 246,
      "outputs": [
        {
          "output_type": "execute_result",
          "data": {
            "text/plain": [
              "list"
            ]
          },
          "metadata": {},
          "execution_count": 246
        }
      ]
    },
    {
      "cell_type": "code",
      "source": [
        "b = set(a)\n",
        "b"
      ],
      "metadata": {
        "colab": {
          "base_uri": "https://localhost:8080/"
        },
        "id": "Isf0_XkCTeuY",
        "outputId": "1b3469b3-9f4c-4b25-c101-2f9dbd168261"
      },
      "execution_count": 247,
      "outputs": [
        {
          "output_type": "execute_result",
          "data": {
            "text/plain": [
              "{1, 2, 3}"
            ]
          },
          "metadata": {},
          "execution_count": 247
        }
      ]
    },
    {
      "cell_type": "markdown",
      "source": [
        "b를 다시 list로 변환"
      ],
      "metadata": {
        "id": "_RQF3u_DTjRa"
      }
    },
    {
      "cell_type": "code",
      "source": [
        "b = list(b)\n",
        "b"
      ],
      "metadata": {
        "colab": {
          "base_uri": "https://localhost:8080/"
        },
        "id": "GUgZ2HFtTgYJ",
        "outputId": "42f42f58-f3c8-475b-a87a-2f654e2baab5"
      },
      "execution_count": 248,
      "outputs": [
        {
          "output_type": "execute_result",
          "data": {
            "text/plain": [
              "[1, 2, 3]"
            ]
          },
          "metadata": {},
          "execution_count": 248
        }
      ]
    },
    {
      "cell_type": "markdown",
      "source": [
        "##dictionary"
      ],
      "metadata": {
        "id": "3pS5wQNkTnHU"
      }
    },
    {
      "cell_type": "markdown",
      "source": [
        "-순서 X<br>\n",
        "-key와 value의 쌍으로 이루어져 있음 (key:value)<br>\n",
        "-key를 사용하여 값의 조회 가능<br>\n",
        "-수정, 삭제, 추가가 가능(가변)"
      ],
      "metadata": {
        "id": "62q_UOyDTqkq"
      }
    },
    {
      "cell_type": "markdown",
      "source": [
        "####생성"
      ],
      "metadata": {
        "id": "xaxD4X5hUGNO"
      }
    },
    {
      "cell_type": "code",
      "source": [
        ""
      ],
      "metadata": {
        "id": "a4W5ww0TZq-1"
      },
      "execution_count": null,
      "outputs": []
    },
    {
      "cell_type": "code",
      "source": [
        "mydict = dict()\n",
        "print(type(mydict))\n",
        "mydict"
      ],
      "metadata": {
        "colab": {
          "base_uri": "https://localhost:8080/"
        },
        "id": "uD83U9eDTmdx",
        "outputId": "8042b396-9378-4a1f-f158-35bc1149904b"
      },
      "execution_count": 249,
      "outputs": [
        {
          "output_type": "stream",
          "name": "stdout",
          "text": [
            "<class 'dict'>\n"
          ]
        },
        {
          "output_type": "execute_result",
          "data": {
            "text/plain": [
              "{}"
            ]
          },
          "metadata": {},
          "execution_count": 249
        }
      ]
    },
    {
      "cell_type": "code",
      "source": [
        "mydict = {'a': 1, 'b': 2, 'c': 3}\n",
        "print(type(mydict))\n",
        "mydict"
      ],
      "metadata": {
        "colab": {
          "base_uri": "https://localhost:8080/"
        },
        "id": "_3TT-DlwWhlf",
        "outputId": "13472835-8996-4e32-ec73-5a9f782dca8f"
      },
      "execution_count": 250,
      "outputs": [
        {
          "output_type": "stream",
          "name": "stdout",
          "text": [
            "<class 'dict'>\n"
          ]
        },
        {
          "output_type": "execute_result",
          "data": {
            "text/plain": [
              "{'a': 1, 'b': 2, 'c': 3}"
            ]
          },
          "metadata": {},
          "execution_count": 250
        }
      ]
    },
    {
      "cell_type": "markdown",
      "source": [
        "여러 타입의 key보유 가능"
      ],
      "metadata": {
        "id": "ZsY_LYG4Wj6K"
      }
    },
    {
      "cell_type": "code",
      "source": [
        "mydict = {'a': 1, '가':2, 100: 3, 3.14: 4, True: 5}\n",
        "mydict"
      ],
      "metadata": {
        "colab": {
          "base_uri": "https://localhost:8080/"
        },
        "id": "rNX2vvTKWoF8",
        "outputId": "bca7d297-931b-4bc0-a8ed-441972c16b16"
      },
      "execution_count": 251,
      "outputs": [
        {
          "output_type": "execute_result",
          "data": {
            "text/plain": [
              "{100: 3, 3.14: 4, True: 5, 'a': 1, '가': 2}"
            ]
          },
          "metadata": {},
          "execution_count": 251
        }
      ]
    },
    {
      "cell_type": "markdown",
      "source": [
        "####값 조회"
      ],
      "metadata": {
        "id": "5dwP6vp1YSgP"
      }
    },
    {
      "cell_type": "markdown",
      "source": [
        "-key 값으로 값 조회 가능"
      ],
      "metadata": {
        "id": "LxkEN_ktYWbX"
      }
    },
    {
      "cell_type": "code",
      "source": [
        "mydict = {'a': 1, '가':2, 100: 3, 3.14: 4, True: 5}\n",
        "mydict"
      ],
      "metadata": {
        "colab": {
          "base_uri": "https://localhost:8080/"
        },
        "id": "vBAfOUS2YVw-",
        "outputId": "c81d3948-24b3-468d-be62-a103eec70bef"
      },
      "execution_count": 252,
      "outputs": [
        {
          "output_type": "execute_result",
          "data": {
            "text/plain": [
              "{100: 3, 3.14: 4, True: 5, 'a': 1, '가': 2}"
            ]
          },
          "metadata": {},
          "execution_count": 252
        }
      ]
    },
    {
      "cell_type": "code",
      "source": [
        "mydict['a']"
      ],
      "metadata": {
        "colab": {
          "base_uri": "https://localhost:8080/"
        },
        "id": "EOF9eB0FYfpK",
        "outputId": "2a031511-0dc1-4e80-c8cc-f2f4219119c1"
      },
      "execution_count": 253,
      "outputs": [
        {
          "output_type": "execute_result",
          "data": {
            "text/plain": [
              "1"
            ]
          },
          "metadata": {},
          "execution_count": 253
        }
      ]
    },
    {
      "cell_type": "markdown",
      "source": [
        "key가 없는 경우 에러 발생"
      ],
      "metadata": {
        "id": "6SxWF6G3YjP3"
      }
    },
    {
      "cell_type": "code",
      "source": [
        "mydict['b']"
      ],
      "metadata": {
        "colab": {
          "base_uri": "https://localhost:8080/",
          "height": 176
        },
        "id": "GtLO_uYBYpIS",
        "outputId": "2319fcf7-ea7c-4a3b-fef4-97253199a6ab"
      },
      "execution_count": 254,
      "outputs": [
        {
          "output_type": "error",
          "ename": "KeyError",
          "evalue": "ignored",
          "traceback": [
            "\u001b[0;31m---------------------------------------------------------------------------\u001b[0m",
            "\u001b[0;31mKeyError\u001b[0m                                  Traceback (most recent call last)",
            "\u001b[0;32m<ipython-input-254-a8dfdc4bddd9>\u001b[0m in \u001b[0;36m<module>\u001b[0;34m()\u001b[0m\n\u001b[0;32m----> 1\u001b[0;31m \u001b[0mmydict\u001b[0m\u001b[0;34m[\u001b[0m\u001b[0;34m'b'\u001b[0m\u001b[0;34m]\u001b[0m\u001b[0;34m\u001b[0m\u001b[0;34m\u001b[0m\u001b[0m\n\u001b[0m",
            "\u001b[0;31mKeyError\u001b[0m: 'b'"
          ]
        }
      ]
    },
    {
      "cell_type": "markdown",
      "source": [
        "get() 메서드를 활용하여 값 조회 가능"
      ],
      "metadata": {
        "id": "Y1NTuTvhYq-K"
      }
    },
    {
      "cell_type": "code",
      "source": [
        "mydict.get('a')"
      ],
      "metadata": {
        "colab": {
          "base_uri": "https://localhost:8080/"
        },
        "id": "JDk_EdjmYzbs",
        "outputId": "102fa199-430e-47da-bad8-0c24feb1f2dd"
      },
      "execution_count": 255,
      "outputs": [
        {
          "output_type": "execute_result",
          "data": {
            "text/plain": [
              "1"
            ]
          },
          "metadata": {},
          "execution_count": 255
        }
      ]
    },
    {
      "cell_type": "markdown",
      "source": [
        "get()을 사용하면 key가 없는 경우에 에러 발생 X, None이 반황됨"
      ],
      "metadata": {
        "id": "BM4mOyCOY14n"
      }
    },
    {
      "cell_type": "markdown",
      "source": [
        "####keys()"
      ],
      "metadata": {
        "id": "QuBsUnKOZGCM"
      }
    },
    {
      "cell_type": "markdown",
      "source": [
        "-모든 key 조회"
      ],
      "metadata": {
        "id": "-FQwOdjjZJQg"
      }
    },
    {
      "cell_type": "code",
      "source": [
        "mydict = {'a': 100, 'b': 200, 'c': 300, 'd': 400, 'e': 500}\n",
        "mydict"
      ],
      "metadata": {
        "colab": {
          "base_uri": "https://localhost:8080/"
        },
        "id": "H_zZGWidY0nJ",
        "outputId": "b162efaa-0066-40a8-8cfa-1b2baed5c781"
      },
      "execution_count": 256,
      "outputs": [
        {
          "output_type": "execute_result",
          "data": {
            "text/plain": [
              "{'a': 100, 'b': 200, 'c': 300, 'd': 400, 'e': 500}"
            ]
          },
          "metadata": {},
          "execution_count": 256
        }
      ]
    },
    {
      "cell_type": "code",
      "source": [
        "mydict.keys()"
      ],
      "metadata": {
        "colab": {
          "base_uri": "https://localhost:8080/"
        },
        "id": "zbxqWgyvZNV8",
        "outputId": "8407829d-8fad-4f2e-e472-84e0c99f6774"
      },
      "execution_count": 257,
      "outputs": [
        {
          "output_type": "execute_result",
          "data": {
            "text/plain": [
              "dict_keys(['a', 'b', 'c', 'd', 'e'])"
            ]
          },
          "metadata": {},
          "execution_count": 257
        }
      ]
    },
    {
      "cell_type": "markdown",
      "source": [
        "####values()"
      ],
      "metadata": {
        "id": "k6M4KJ_TZw0n"
      }
    },
    {
      "cell_type": "markdown",
      "source": [
        "-모든 value 조회"
      ],
      "metadata": {
        "id": "OyZCBJaaZy8s"
      }
    },
    {
      "cell_type": "code",
      "source": [
        "mydict.values()"
      ],
      "metadata": {
        "colab": {
          "base_uri": "https://localhost:8080/"
        },
        "id": "itnHC2hfZ1xx",
        "outputId": "fff986b1-fa3c-44e7-d625-209e003cc3bd"
      },
      "execution_count": 258,
      "outputs": [
        {
          "output_type": "execute_result",
          "data": {
            "text/plain": [
              "dict_values([100, 200, 300, 400, 500])"
            ]
          },
          "metadata": {},
          "execution_count": 258
        }
      ]
    },
    {
      "cell_type": "markdown",
      "source": [
        "####itens()"
      ],
      "metadata": {
        "id": "BkNlcWH6Z4-s"
      }
    },
    {
      "cell_type": "markdown",
      "source": [
        "-모든 key, value 조회 (ket, value가 \n",
        "튜플로 묶여서 조회됨)"
      ],
      "metadata": {
        "id": "Gwk7AhaBZ73V"
      }
    },
    {
      "cell_type": "code",
      "source": [
        "mydict.items()"
      ],
      "metadata": {
        "colab": {
          "base_uri": "https://localhost:8080/"
        },
        "id": "rNJ5YepsaI6o",
        "outputId": "ba04c409-d98f-4108-9c3c-73a2ca11c961"
      },
      "execution_count": 259,
      "outputs": [
        {
          "output_type": "execute_result",
          "data": {
            "text/plain": [
              "dict_items([('a', 100), ('b', 200), ('c', 300), ('d', 400), ('e', 500)])"
            ]
          },
          "metadata": {},
          "execution_count": 259
        }
      ]
    },
    {
      "cell_type": "markdown",
      "source": [
        "list로 변환"
      ],
      "metadata": {
        "id": "nLL41lXTaYSb"
      }
    },
    {
      "cell_type": "code",
      "source": [
        "list(mydict.items())"
      ],
      "metadata": {
        "colab": {
          "base_uri": "https://localhost:8080/"
        },
        "id": "dMFuPBfEaWV5",
        "outputId": "5d104dc1-edda-420f-bf63-23b5e9e6f3b4"
      },
      "execution_count": 260,
      "outputs": [
        {
          "output_type": "execute_result",
          "data": {
            "text/plain": [
              "[('a', 100), ('b', 200), ('c', 300), ('d', 400), ('e', 500)]"
            ]
          },
          "metadata": {},
          "execution_count": 260
        }
      ]
    },
    {
      "cell_type": "markdown",
      "source": [
        "####ket 값의 존재 유무 확인"
      ],
      "metadata": {
        "id": "VtQnhJnxabX-"
      }
    },
    {
      "cell_type": "code",
      "source": [
        "mydict = {'a': 100, 'b': 200, 'c': 300, 'd': 400, 'e': 500}\n",
        "'a' in mydict"
      ],
      "metadata": {
        "colab": {
          "base_uri": "https://localhost:8080/"
        },
        "id": "a1bcVfGUahsm",
        "outputId": "3dbe3d18-bcbf-4b7c-d4e3-fffa4ea9861d"
      },
      "execution_count": 261,
      "outputs": [
        {
          "output_type": "execute_result",
          "data": {
            "text/plain": [
              "True"
            ]
          },
          "metadata": {},
          "execution_count": 261
        }
      ]
    },
    {
      "cell_type": "code",
      "source": [
        "'f' in mydict"
      ],
      "metadata": {
        "colab": {
          "base_uri": "https://localhost:8080/"
        },
        "id": "10dqQCgmajML",
        "outputId": "4918e677-bcff-4491-b100-eee0eecc10af"
      },
      "execution_count": 262,
      "outputs": [
        {
          "output_type": "execute_result",
          "data": {
            "text/plain": [
              "False"
            ]
          },
          "metadata": {},
          "execution_count": 262
        }
      ]
    },
    {
      "cell_type": "markdown",
      "source": [
        "####값 추가"
      ],
      "metadata": {
        "id": "MCA4-Y6eaINL"
      }
    },
    {
      "cell_type": "markdown",
      "source": [
        "-새로운 key에 값을 대입하여 추가"
      ],
      "metadata": {
        "id": "5lRf1LKzav79"
      }
    },
    {
      "cell_type": "code",
      "source": [
        "mydict = dict()\n",
        "mydict"
      ],
      "metadata": {
        "colab": {
          "base_uri": "https://localhost:8080/"
        },
        "id": "D1o3v9Yqau27",
        "outputId": "fbfcc704-1bf5-45d5-d6a2-4d7b9c671cb8"
      },
      "execution_count": 263,
      "outputs": [
        {
          "output_type": "execute_result",
          "data": {
            "text/plain": [
              "{}"
            ]
          },
          "metadata": {},
          "execution_count": 263
        }
      ]
    },
    {
      "cell_type": "code",
      "source": [
        "mydict['apple'] = 123\n",
        "mydict['apple']"
      ],
      "metadata": {
        "colab": {
          "base_uri": "https://localhost:8080/"
        },
        "id": "BhyrtUvxa10d",
        "outputId": "8a915523-1b83-47af-8f24-d95bfc979414"
      },
      "execution_count": 264,
      "outputs": [
        {
          "output_type": "execute_result",
          "data": {
            "text/plain": [
              "123"
            ]
          },
          "metadata": {},
          "execution_count": 264
        }
      ]
    },
    {
      "cell_type": "code",
      "source": [
        "mydict[0] = 2\n",
        "mydict[0]"
      ],
      "metadata": {
        "colab": {
          "base_uri": "https://localhost:8080/"
        },
        "id": "_z72Jiega3ef",
        "outputId": "3fc0e5c5-9081-40ad-e314-b564edd0aef3"
      },
      "execution_count": 265,
      "outputs": [
        {
          "output_type": "execute_result",
          "data": {
            "text/plain": [
              "2"
            ]
          },
          "metadata": {},
          "execution_count": 265
        }
      ]
    },
    {
      "cell_type": "markdown",
      "source": [
        "####update()"
      ],
      "metadata": {
        "id": "clsBB9k2aAof"
      }
    },
    {
      "cell_type": "markdown",
      "source": [
        "-값을 한꺼번에 업데이트"
      ],
      "metadata": {
        "id": "7Ext06LnbAMx"
      }
    },
    {
      "cell_type": "code",
      "source": [
        "mydict = {'파인애플': 1500, '망고': 3500, '배': 1000}\n",
        "mydict"
      ],
      "metadata": {
        "colab": {
          "base_uri": "https://localhost:8080/"
        },
        "id": "crCqs317bFW4",
        "outputId": "52ad606a-4d49-42d8-e3ac-9e4b1dada085"
      },
      "execution_count": 267,
      "outputs": [
        {
          "output_type": "execute_result",
          "data": {
            "text/plain": [
              "{'망고': 3500, '배': 1000, '파인애플': 1500}"
            ]
          },
          "metadata": {},
          "execution_count": 267
        }
      ]
    },
    {
      "cell_type": "code",
      "source": [
        "fruit = {\n",
        "    '사과': 2000, \n",
        "    '딸기': 3000, \n",
        "    '수박': 5000, \n",
        "}"
      ],
      "metadata": {
        "id": "TTTAOwoxbHNW"
      },
      "execution_count": 268,
      "outputs": []
    },
    {
      "cell_type": "code",
      "source": [
        "mydict.update(fruit)\n",
        "mydict"
      ],
      "metadata": {
        "colab": {
          "base_uri": "https://localhost:8080/"
        },
        "id": "SDjMwLOWbJpD",
        "outputId": "d22f10d7-4157-4108-8c08-f18739bcdb39"
      },
      "execution_count": 269,
      "outputs": [
        {
          "output_type": "execute_result",
          "data": {
            "text/plain": [
              "{'딸기': 3000, '망고': 3500, '배': 1000, '사과': 2000, '수박': 5000, '파인애플': 1500}"
            ]
          },
          "metadata": {},
          "execution_count": 269
        }
      ]
    },
    {
      "cell_type": "markdown",
      "source": [
        "####값 변경"
      ],
      "metadata": {
        "id": "mnen6DlKbP-w"
      }
    },
    {
      "cell_type": "markdown",
      "source": [
        "-key 값에 새로운 value를 대입하여 값을 변경할 수 있음"
      ],
      "metadata": {
        "id": "zBNhDEEYbUMU"
      }
    },
    {
      "cell_type": "code",
      "source": [
        "mydict = {'a': 100, 'b': 200, 'c': 300, 'd': 400, 'e': 500}\n",
        "mydict"
      ],
      "metadata": {
        "colab": {
          "base_uri": "https://localhost:8080/"
        },
        "id": "wE_tMPOvbc9b",
        "outputId": "470c1127-dfad-415f-e36a-c494613a3693"
      },
      "execution_count": 270,
      "outputs": [
        {
          "output_type": "execute_result",
          "data": {
            "text/plain": [
              "{'a': 100, 'b': 200, 'c': 300, 'd': 400, 'e': 500}"
            ]
          },
          "metadata": {},
          "execution_count": 270
        }
      ]
    },
    {
      "cell_type": "code",
      "source": [
        "mydict['a'] = 900\n",
        "mydict"
      ],
      "metadata": {
        "colab": {
          "base_uri": "https://localhost:8080/"
        },
        "id": "lfTSGYysbfV7",
        "outputId": "ec3e3ec3-e9a1-4303-cb4d-06dc0369a4c1"
      },
      "execution_count": 272,
      "outputs": [
        {
          "output_type": "execute_result",
          "data": {
            "text/plain": [
              "{'a': 900, 'b': 200, 'c': 300, 'd': 400, 'e': 500}"
            ]
          },
          "metadata": {},
          "execution_count": 272
        }
      ]
    },
    {
      "cell_type": "markdown",
      "source": [
        "####제거하기"
      ],
      "metadata": {
        "id": "yYr-HXfLbovw"
      }
    },
    {
      "cell_type": "markdown",
      "source": [
        "del을 사용하여 값을 제거"
      ],
      "metadata": {
        "id": "018C7rffburm"
      }
    },
    {
      "cell_type": "code",
      "source": [
        "mydict = {'a': 100, 'b': 200, 'c': 300, 'd': 400, 'e': 500}\n",
        "mydict"
      ],
      "metadata": {
        "colab": {
          "base_uri": "https://localhost:8080/"
        },
        "id": "wzmqgMe4bjto",
        "outputId": "3f2d94d7-9ab5-41c6-e012-af8347267b3c"
      },
      "execution_count": 277,
      "outputs": [
        {
          "output_type": "execute_result",
          "data": {
            "text/plain": [
              "{'a': 100, 'b': 200, 'c': 300, 'd': 400, 'e': 500}"
            ]
          },
          "metadata": {},
          "execution_count": 277
        }
      ]
    },
    {
      "cell_type": "code",
      "source": [
        "del mydict['a']\n",
        "mydict"
      ],
      "metadata": {
        "colab": {
          "base_uri": "https://localhost:8080/"
        },
        "id": "3Y2_4H8Xbh0Q",
        "outputId": "ff0693e8-8fbb-4540-8548-890fed1970fd"
      },
      "execution_count": 278,
      "outputs": [
        {
          "output_type": "execute_result",
          "data": {
            "text/plain": [
              "{'b': 200, 'c': 300, 'd': 400, 'e': 500}"
            ]
          },
          "metadata": {},
          "execution_count": 278
        }
      ]
    },
    {
      "cell_type": "markdown",
      "source": [
        "pop()에 key를 지정하여 값을 제거<br>\n",
        "value를 반환하고 제거"
      ],
      "metadata": {
        "id": "z6f9loODcKgZ"
      }
    },
    {
      "cell_type": "code",
      "source": [
        "mydict.pop('b')"
      ],
      "metadata": {
        "colab": {
          "base_uri": "https://localhost:8080/"
        },
        "id": "mhX80K-xbhPX",
        "outputId": "fdb1387f-ca3a-4adb-c705-8584a2cb97c8"
      },
      "execution_count": 279,
      "outputs": [
        {
          "output_type": "execute_result",
          "data": {
            "text/plain": [
              "200"
            ]
          },
          "metadata": {},
          "execution_count": 279
        }
      ]
    },
    {
      "cell_type": "code",
      "source": [
        "mydict"
      ],
      "metadata": {
        "colab": {
          "base_uri": "https://localhost:8080/"
        },
        "id": "arAKKV6Ycjvq",
        "outputId": "3965aab3-d42c-4f94-96e0-a6e94f3cf586"
      },
      "execution_count": 280,
      "outputs": [
        {
          "output_type": "execute_result",
          "data": {
            "text/plain": [
              "{'c': 300, 'd': 400, 'e': 500}"
            ]
          },
          "metadata": {},
          "execution_count": 280
        }
      ]
    },
    {
      "cell_type": "markdown",
      "source": [
        "####len()"
      ],
      "metadata": {
        "id": "Ihqw10gCcphi"
      }
    },
    {
      "cell_type": "markdown",
      "source": [
        "-요소의 개수 파악"
      ],
      "metadata": {
        "id": "8q2uvXTHcsVU"
      }
    },
    {
      "cell_type": "code",
      "source": [
        "len(mydict)"
      ],
      "metadata": {
        "id": "qdaThkRgcu--"
      },
      "execution_count": null,
      "outputs": []
    },
    {
      "cell_type": "markdown",
      "source": [
        "####clear()"
      ],
      "metadata": {
        "id": "EExjJ149cwmt"
      }
    },
    {
      "cell_type": "markdown",
      "source": [
        "-전부 삭제"
      ],
      "metadata": {
        "id": "yhv2a3dFc0uV"
      }
    },
    {
      "cell_type": "code",
      "source": [
        "mydict = {'a': 100, 'b': 200, 'c': 300, 'd': 400, 'e': 500}\n",
        "mydict"
      ],
      "metadata": {
        "colab": {
          "base_uri": "https://localhost:8080/"
        },
        "id": "MYEVZnspc0Vn",
        "outputId": "e4dd13ec-e7a9-4e95-8d07-59189bbf0c0b"
      },
      "execution_count": 281,
      "outputs": [
        {
          "output_type": "execute_result",
          "data": {
            "text/plain": [
              "{'a': 100, 'b': 200, 'c': 300, 'd': 400, 'e': 500}"
            ]
          },
          "metadata": {},
          "execution_count": 281
        }
      ]
    },
    {
      "cell_type": "code",
      "source": [
        "mydict.clear()\n",
        "mydict"
      ],
      "metadata": {
        "colab": {
          "base_uri": "https://localhost:8080/"
        },
        "id": "oiy9iQK1c5h3",
        "outputId": "d7c35ae7-558b-475c-b0dd-7d6f3fbc68b1"
      },
      "execution_count": 282,
      "outputs": [
        {
          "output_type": "execute_result",
          "data": {
            "text/plain": [
              "{}"
            ]
          },
          "metadata": {},
          "execution_count": 282
        }
      ]
    }
  ]
}