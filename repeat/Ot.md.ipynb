{
  "nbformat": 4,
  "nbformat_minor": 0,
  "metadata": {
    "colab": {
      "name": "파이썬 2차 ot-마크다운.ipynb",
      "provenance": [],
      "authorship_tag": "ABX9TyM7tFjJv6z1ZNBS1auefR0n",
      "include_colab_link": true
    },
    "kernelspec": {
      "name": "python3",
      "display_name": "Python 3"
    },
    "language_info": {
      "name": "python"
    }
  },
  "cells": [
    {
      "cell_type": "markdown",
      "metadata": {
        "id": "view-in-github",
        "colab_type": "text"
      },
      "source": [
        "<a href=\"https://colab.research.google.com/github/seungah303/2022_PYTHON/blob/main/%ED%8C%8C%EC%9D%B4%EC%8D%AC_2%EC%B0%A8_ot_%EB%A7%88%ED%81%AC%EB%8B%A4%EC%9A%B4.ipynb\" target=\"_parent\"><img src=\"https://colab.research.google.com/assets/colab-badge.svg\" alt=\"Open In Colab\"/></a>"
      ]
    },
    {
      "cell_type": "markdown",
      "source": [
        "#파이썬의 철학"
      ],
      "metadata": {
        "id": "7jMhGxQPL1qO"
      }
    },
    {
      "cell_type": "code",
      "execution_count": null,
      "metadata": {
        "id": "BqOX4oJM3Pn_"
      },
      "outputs": [],
      "source": [
        "import this"
      ]
    },
    {
      "cell_type": "code",
      "source": [
        "print('abc')\n"
      ],
      "metadata": {
        "colab": {
          "base_uri": "https://localhost:8080/"
        },
        "id": "6W2ROzXc_HLO",
        "outputId": "3ccd492c-785c-435d-8757-e4be832aa902"
      },
      "execution_count": null,
      "outputs": [
        {
          "output_type": "stream",
          "name": "stdout",
          "text": [
            "abc\n"
          ]
        }
      ]
    },
    {
      "cell_type": "markdown",
      "source": [
        "안녕하세요<b> dks"
      ],
      "metadata": {
        "id": "DqT3Yf1R_TyG"
      }
    },
    {
      "cell_type": "markdown",
      "source": [
        "#suitley\n",
        "##suitley\n",
        "###suitley\n",
        "####suitley\n",
        "#####suitley\n",
        "######suitley"
      ],
      "metadata": {
        "id": "McuzOkgPCwMr"
      }
    },
    {
      "cell_type": "markdown",
      "source": [
        "  *This text will be italic*  <br>\n",
        "  _This will also be italic_ <br>\n",
        "  **This text will be bold** <br>\n",
        "  __This will also be bold__ <br>\n",
        "  ~~This is canceled~~<br>\n",
        "  *You **can** combine them*"
      ],
      "metadata": {
        "id": "JdGCplldDTuY"
      }
    },
    {
      "cell_type": "markdown",
      "source": [
        "#Blockquotes\n",
        "As Grace Hopper said:\n",
        "> I’ve always been more interested in the future than in the past.    \n",
        "> This is a first blockquote.\n",
        "> > This is a second blockquote.\n",
        "> > > This is a third blockquote."
      ],
      "metadata": {
        "id": "rhKVO2vKD0ZK"
      }
    },
    {
      "cell_type": "markdown",
      "source": [
        "#list\n",
        "* Item \n",
        "  * Item\n"
      ],
      "metadata": {
        "id": "p_AmwEHNEAcA"
      }
    },
    {
      "cell_type": "markdown",
      "source": [
        "* Item 1\n",
        "* Item 2\n",
        "  * Item 1\n",
        "  * Item 2\n",
        "    * Item 1\n",
        "    * Item 2\n",
        " 1. Item 1\n",
        " 2. Item 2\n",
        " 3. Item 3\n",
        "   1. Item 1\n",
        "   2. Item 2\n",
        "   3. Item 3\n",
        "     1. Item 1\n",
        "     2. Item 2\n",
        "     3. Item 3"
      ],
      "metadata": {
        "id": "xQHcl3VNELqN"
      }
    },
    {
      "cell_type": "markdown",
      "source": [
        "\\*literal asterisks\\* <br>\n",
        "\\#hash mark\\#<br>\n",
        "\\[squre brackets\\]"
      ],
      "metadata": {
        "id": "9Pq2NQw2Eenx"
      }
    },
    {
      "cell_type": "markdown",
      "source": [
        "![alt 토마토](C:\\Users\\82104\\OneDrive\\바탕 화면\\3333.png.jpg)\n",
        "![alt man](/img/man_laptop.jpg)\n",
        "![alt Concrete Buildings](https://github.com/sewoony/2022_MIST_AfterSchoolClass/blob/5e79e89bd1d892f966142c1f410ad2441d987b11/Markdown_Tip/img/concrete_building.jpg)"
      ],
      "metadata": {
        "id": "YZACAhomE1Rw"
      }
    },
    {
      "cell_type": "code",
      "source": [
        "[github]()"
      ],
      "metadata": {
        "id": "EMUaEd5KFd9b"
      },
      "execution_count": null,
      "outputs": []
    },
    {
      "cell_type": "markdown",
      "source": [
        "[github](https://github.com/seungah303/2022_PYTHON)"
      ],
      "metadata": {
        "id": "M04gc_9HFvjx"
      }
    },
    {
      "cell_type": "markdown",
      "source": [
        ""
      ],
      "metadata": {
        "id": "jNmO0Y1vG82A"
      }
    },
    {
      "cell_type": "markdown",
      "source": [
        "#내부링크\n",
        "\n",
        "[1. Headers ](#파이썬의_철학)"
      ],
      "metadata": {
        "id": "EoWH6j9lGYto"
      }
    },
    {
      "cell_type": "markdown",
      "source": [
        "#코드블럭\n",
        "```\n",
        "This is code blocks.\n",
        "```\n",
        "~~~\n",
        "This is code blocks.\n",
        "~~~\n",
        "\t4 spaces\n",
        "```javascript\n",
        "function test() {\n",
        " console.log(\"look ma’, no spaces\");\n",
        "}\n",
        "```"
      ],
      "metadata": {
        "id": "Gg6sJGitG69u"
      }
    },
    {
      "cell_type": "markdown",
      "source": [
        "- [x] this is a complete item\n",
        "- [ ] this is an incomplete item\n",
        "- [x] @mentions, #refs, [links](),\n",
        "**formatting**, and <del>tags</del>\n",
        "supported\n",
        "- [ ] list syntax required (any\n",
        "unordered or ordered list\n",
        "supported)"
      ],
      "metadata": {
        "id": "vcwjHtLPHkXT"
      }
    },
    {
      "cell_type": "markdown",
      "source": [
        "#수평선\n",
        "* * *\n",
        "***\n",
        "*****\n",
        "- - -\n",
        "-------------------"
      ],
      "metadata": {
        "id": "XHdBveHMIbYs"
      }
    },
    {
      "cell_type": "markdown",
      "source": [
        "GitHub supports emoji!\n",
        ":+1: :sparkles: :camel: :tada:\n",
        ":rocket: :metal: :smile:"
      ],
      "metadata": {
        "id": "FAaUbqZbIv09"
      }
    },
    {
      "cell_type": "markdown",
      "source": [
        "#테이블 생성\n",
        "\n",
        "헤더1|헤더2|헤더3|헤더4\n",
        "---|---|---|---\n",
        "셀1|셀2|셀3|셀4\n",
        "셀5|셀6|셀7|셀8\n",
        "셀9|셀10|셀11|셀12\n",
        "\n",
        "테이블 정렬\n",
        "\n",
        "헤더1|헤더2|헤더3\n",
        ":---|:---:|---:\n",
        "Left|Center|Right\n",
        "1|2|3\n",
        "4|5|6\n",
        "7|8|9"
      ],
      "metadata": {
        "id": "OIIfvhDwJjnI"
      }
    }
  ]
}
