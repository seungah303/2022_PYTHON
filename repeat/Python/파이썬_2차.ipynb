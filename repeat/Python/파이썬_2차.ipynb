{
  "nbformat": 4,
  "nbformat_minor": 0,
  "metadata": {
    "colab": {
      "name": "파이썬 2차.ipynb",
      "provenance": [],
      "collapsed_sections": [],
      "authorship_tag": "ABX9TyMUXD6+C3VdASjSzWDM2vFm",
      "include_colab_link": true
    },
    "kernelspec": {
      "name": "python3",
      "display_name": "Python 3"
    },
    "language_info": {
      "name": "python"
    }
  },
  "cells": [
    {
      "cell_type": "markdown",
      "metadata": {
        "id": "view-in-github",
        "colab_type": "text"
      },
      "source": [
        "<a href=\"https://colab.research.google.com/github/seungah303/2022_PYTHON/blob/main/%ED%8C%8C%EC%9D%B4%EC%8D%AC_2%EC%B0%A8.ipynb\" target=\"_parent\"><img src=\"https://colab.research.google.com/assets/colab-badge.svg\" alt=\"Open In Colab\"/></a>"
      ]
    },
    {
      "cell_type": "markdown",
      "source": [
        "#출력"
      ],
      "metadata": {
        "id": "DDSz5JmPBTCH"
      }
    },
    {
      "cell_type": "code",
      "execution_count": null,
      "metadata": {
        "colab": {
          "base_uri": "https://localhost:8080/"
        },
        "id": "VdJOso4E_c-p",
        "outputId": "c5db5924-8774-4e19-84e7-d10514431c61"
      },
      "outputs": [
        {
          "output_type": "stream",
          "name": "stdout",
          "text": [
            "오늘 파이썬 배우기 좋은 날이네!\n",
            "오늘은 목요일\n",
            "1 2 3 4\n"
          ]
        }
      ],
      "source": [
        "print('오늘 파이썬 배우기 좋은 날이네!')\n",
        "print(\"오늘은\", \"목요일\")\n",
        "print(1, 2, 3, 4)"
      ]
    },
    {
      "cell_type": "code",
      "source": [
        "3.14\n",
        "'안녕'\n",
        "100"
      ],
      "metadata": {
        "colab": {
          "base_uri": "https://localhost:8080/"
        },
        "id": "jhHziYIfBqe0",
        "outputId": "edd8a434-b6f3-4999-fbd2-9149530d4213"
      },
      "execution_count": null,
      "outputs": [
        {
          "output_type": "execute_result",
          "data": {
            "text/plain": [
              "100"
            ]
          },
          "metadata": {},
          "execution_count": 5
        }
      ]
    },
    {
      "cell_type": "code",
      "source": [
        "100\n",
        "'왱'\n",
        "\"ㅎ\""
      ],
      "metadata": {
        "colab": {
          "base_uri": "https://localhost:8080/",
          "height": 36
        },
        "id": "ZJSO7mWMBv9s",
        "outputId": "f0c89508-9efc-4dce-ed62-39ccb39c5cb5"
      },
      "execution_count": null,
      "outputs": [
        {
          "output_type": "execute_result",
          "data": {
            "text/plain": [
              "'ㅎ'"
            ],
            "application/vnd.google.colaboratory.intrinsic+json": {
              "type": "string"
            }
          },
          "metadata": {},
          "execution_count": 10
        }
      ]
    },
    {
      "cell_type": "markdown",
      "source": [
        "#변수"
      ],
      "metadata": {
        "id": "E1NcDmIxB_9R"
      }
    },
    {
      "cell_type": "code",
      "source": [
        "a=1\n",
        "a"
      ],
      "metadata": {
        "colab": {
          "base_uri": "https://localhost:8080/"
        },
        "id": "0J6BDR5DCQMa",
        "outputId": "23996336-2c3a-400a-84f8-9b522a827555"
      },
      "execution_count": null,
      "outputs": [
        {
          "output_type": "execute_result",
          "data": {
            "text/plain": [
              "1"
            ]
          },
          "metadata": {},
          "execution_count": 11
        }
      ]
    },
    {
      "cell_type": "code",
      "source": [
        "Al1 =1\n",
        "Al1"
      ],
      "metadata": {
        "colab": {
          "base_uri": "https://localhost:8080/"
        },
        "id": "pLJYHu7eC38A",
        "outputId": "eec299a2-d2e6-4af5-a6ce-b6249ec672e8"
      },
      "execution_count": null,
      "outputs": [
        {
          "output_type": "execute_result",
          "data": {
            "text/plain": [
              "1"
            ]
          },
          "metadata": {},
          "execution_count": 12
        }
      ]
    },
    {
      "cell_type": "code",
      "source": [
        "A_ = 2\n",
        "A_"
      ],
      "metadata": {
        "colab": {
          "base_uri": "https://localhost:8080/"
        },
        "id": "fa3DOBSBC8GL",
        "outputId": "8789e836-d515-4b81-cbcc-5795df96db84"
      },
      "execution_count": null,
      "outputs": [
        {
          "output_type": "execute_result",
          "data": {
            "text/plain": [
              "2"
            ]
          },
          "metadata": {},
          "execution_count": 13
        }
      ]
    },
    {
      "cell_type": "code",
      "source": [
        "_a=4\n",
        "_a"
      ],
      "metadata": {
        "colab": {
          "base_uri": "https://localhost:8080/"
        },
        "id": "lIloQ6Q6DCUD",
        "outputId": "e62c8d91-4d91-4824-c452-59ca1ab9688f"
      },
      "execution_count": null,
      "outputs": [
        {
          "output_type": "execute_result",
          "data": {
            "text/plain": [
              "4"
            ]
          },
          "metadata": {},
          "execution_count": 14
        }
      ]
    },
    {
      "cell_type": "markdown",
      "source": [
        "특수문자 불가능"
      ],
      "metadata": {
        "id": "MziZjZMsDLQh"
      }
    },
    {
      "cell_type": "code",
      "source": [
        "*=7\n"
      ],
      "metadata": {
        "colab": {
          "base_uri": "https://localhost:8080/",
          "height": 138
        },
        "id": "jP6hgiSkDHbL",
        "outputId": "76458b94-6156-49aa-c8cd-5c1fa4c10ee2"
      },
      "execution_count": null,
      "outputs": [
        {
          "output_type": "error",
          "ename": "SyntaxError",
          "evalue": "ignored",
          "traceback": [
            "\u001b[0;36m  File \u001b[0;32m\"<ipython-input-15-e7e5214a9aba>\"\u001b[0;36m, line \u001b[0;32m1\u001b[0m\n\u001b[0;31m    *=7\u001b[0m\n\u001b[0m     ^\u001b[0m\n\u001b[0;31mSyntaxError\u001b[0m\u001b[0;31m:\u001b[0m invalid syntax\n"
          ]
        }
      ]
    },
    {
      "cell_type": "markdown",
      "source": [
        "#데이터 타입"
      ],
      "metadata": {
        "id": "rvC20QoqDOL3"
      }
    },
    {
      "cell_type": "markdown",
      "source": [
        "####int 정수"
      ],
      "metadata": {
        "id": "t48LIDfFD-Dl"
      }
    },
    {
      "cell_type": "code",
      "source": [
        "type(1)"
      ],
      "metadata": {
        "colab": {
          "base_uri": "https://localhost:8080/"
        },
        "id": "N7iF9L0ADeSc",
        "outputId": "0b87f7c7-c236-48dd-ebac-49a1c999a7bd"
      },
      "execution_count": null,
      "outputs": [
        {
          "output_type": "execute_result",
          "data": {
            "text/plain": [
              "int"
            ]
          },
          "metadata": {},
          "execution_count": 16
        }
      ]
    },
    {
      "cell_type": "code",
      "source": [
        "type(-22)"
      ],
      "metadata": {
        "colab": {
          "base_uri": "https://localhost:8080/"
        },
        "id": "RpP3nGgHEEdf",
        "outputId": "170b9954-3c3f-44f9-a606-f08c76c8727c"
      },
      "execution_count": null,
      "outputs": [
        {
          "output_type": "execute_result",
          "data": {
            "text/plain": [
              "int"
            ]
          },
          "metadata": {},
          "execution_count": 21
        }
      ]
    },
    {
      "cell_type": "markdown",
      "source": [
        "####float 실수"
      ],
      "metadata": {
        "id": "dLVTEDM0D_kb"
      }
    },
    {
      "cell_type": "code",
      "source": [
        "type(3.14)"
      ],
      "metadata": {
        "colab": {
          "base_uri": "https://localhost:8080/"
        },
        "id": "Ns1vdRusDhKt",
        "outputId": "f42bfd2f-be50-4cd9-c7b6-1cc5457d0973"
      },
      "execution_count": null,
      "outputs": [
        {
          "output_type": "execute_result",
          "data": {
            "text/plain": [
              "float"
            ]
          },
          "metadata": {},
          "execution_count": 17
        }
      ]
    },
    {
      "cell_type": "code",
      "source": [
        "type(-0.20398475)"
      ],
      "metadata": {
        "colab": {
          "base_uri": "https://localhost:8080/"
        },
        "id": "XdQA8VrFEZgF",
        "outputId": "a682a585-1ffb-4316-a982-4c0bf3758f96"
      },
      "execution_count": null,
      "outputs": [
        {
          "output_type": "execute_result",
          "data": {
            "text/plain": [
              "float"
            ]
          },
          "metadata": {},
          "execution_count": 22
        }
      ]
    },
    {
      "cell_type": "markdown",
      "source": [
        "####str 문자열"
      ],
      "metadata": {
        "id": "4g-Xh32fEBxQ"
      }
    },
    {
      "cell_type": "code",
      "source": [
        "type(\"Hello\")"
      ],
      "metadata": {
        "colab": {
          "base_uri": "https://localhost:8080/"
        },
        "id": "D0id_DvlDkdD",
        "outputId": "b01c6869-5e0a-44c0-de15-63a1a836f140"
      },
      "execution_count": null,
      "outputs": [
        {
          "output_type": "execute_result",
          "data": {
            "text/plain": [
              "str"
            ]
          },
          "metadata": {},
          "execution_count": 19
        }
      ]
    },
    {
      "cell_type": "code",
      "source": [
        "type(\"-0.20938745\")"
      ],
      "metadata": {
        "colab": {
          "base_uri": "https://localhost:8080/"
        },
        "id": "qbwEMTUpE3Lv",
        "outputId": "8321d49d-0e36-4902-d521-521d9c06b69e"
      },
      "execution_count": null,
      "outputs": [
        {
          "output_type": "execute_result",
          "data": {
            "text/plain": [
              "str"
            ]
          },
          "metadata": {},
          "execution_count": 23
        }
      ]
    },
    {
      "cell_type": "code",
      "source": [
        "a='''hi\n",
        "Hi\n",
        "HI'''\n",
        "print(a)"
      ],
      "metadata": {
        "colab": {
          "base_uri": "https://localhost:8080/"
        },
        "id": "ItzC6ua7FARx",
        "outputId": "c8463356-a761-494c-fcc7-4ef1e3c87e52"
      },
      "execution_count": null,
      "outputs": [
        {
          "output_type": "stream",
          "name": "stdout",
          "text": [
            "hi\n",
            "Hi\n",
            "HI\n"
          ]
        }
      ]
    },
    {
      "cell_type": "code",
      "source": [
        "b=\"\"\"hello\n",
        "Hello\n",
        "HELLO\"\"\"\n",
        "\n",
        "print(b)"
      ],
      "metadata": {
        "colab": {
          "base_uri": "https://localhost:8080/"
        },
        "id": "Rlm_nwtlFPtj",
        "outputId": "59cd1a47-fbc3-4fed-8317-498119324dd5"
      },
      "execution_count": null,
      "outputs": [
        {
          "output_type": "stream",
          "name": "stdout",
          "text": [
            "hello\n",
            "Hello\n",
            "HELLO\n"
          ]
        }
      ]
    },
    {
      "cell_type": "markdown",
      "source": [
        "####bool 참/거짓"
      ],
      "metadata": {
        "id": "zGOflrjEELPu"
      }
    },
    {
      "cell_type": "code",
      "source": [
        "type(False)"
      ],
      "metadata": {
        "colab": {
          "base_uri": "https://localhost:8080/"
        },
        "id": "_6-GID23DoRh",
        "outputId": "670579d9-6605-4357-c0a7-9d410211f835"
      },
      "execution_count": null,
      "outputs": [
        {
          "output_type": "execute_result",
          "data": {
            "text/plain": [
              "bool"
            ]
          },
          "metadata": {},
          "execution_count": 20
        }
      ]
    },
    {
      "cell_type": "code",
      "source": [
        "type(True)"
      ],
      "metadata": {
        "colab": {
          "base_uri": "https://localhost:8080/"
        },
        "id": "IbFy1d5MFzuj",
        "outputId": "4e3a0a1f-64c3-460d-e28f-4fcf6177814f"
      },
      "execution_count": null,
      "outputs": [
        {
          "output_type": "execute_result",
          "data": {
            "text/plain": [
              "bool"
            ]
          },
          "metadata": {},
          "execution_count": 28
        }
      ]
    },
    {
      "cell_type": "code",
      "source": [
        "g=True\n",
        "print(g)"
      ],
      "metadata": {
        "colab": {
          "base_uri": "https://localhost:8080/"
        },
        "id": "c76PCztBF8VE",
        "outputId": "89de1d68-7ff2-4390-9fb7-4e8f426b1d1c"
      },
      "execution_count": null,
      "outputs": [
        {
          "output_type": "stream",
          "name": "stdout",
          "text": [
            "True\n"
          ]
        }
      ]
    },
    {
      "cell_type": "code",
      "source": [
        "1==True"
      ],
      "metadata": {
        "colab": {
          "base_uri": "https://localhost:8080/"
        },
        "id": "5dZbWgmGGILS",
        "outputId": "cf5bb15f-dca0-4ac2-9a73-3348d2f07ecb"
      },
      "execution_count": null,
      "outputs": [
        {
          "output_type": "execute_result",
          "data": {
            "text/plain": [
              "True"
            ]
          },
          "metadata": {},
          "execution_count": 30
        }
      ]
    },
    {
      "cell_type": "code",
      "source": [
        "0==True"
      ],
      "metadata": {
        "colab": {
          "base_uri": "https://localhost:8080/"
        },
        "id": "IfgbCqX9GLwZ",
        "outputId": "dd8986d7-b522-4611-add9-fcce0b756362"
      },
      "execution_count": null,
      "outputs": [
        {
          "output_type": "execute_result",
          "data": {
            "text/plain": [
              "False"
            ]
          },
          "metadata": {},
          "execution_count": 31
        }
      ]
    },
    {
      "cell_type": "markdown",
      "source": [
        "####none"
      ],
      "metadata": {
        "id": "fyyiMY7DGj0p"
      }
    },
    {
      "cell_type": "code",
      "source": [
        "a = None\n",
        "type(a)"
      ],
      "metadata": {
        "colab": {
          "base_uri": "https://localhost:8080/"
        },
        "id": "mzEpDG1oGs4u",
        "outputId": "b8d438c8-6479-4e85-80f3-1a5f3690e500"
      },
      "execution_count": null,
      "outputs": [
        {
          "output_type": "execute_result",
          "data": {
            "text/plain": [
              "NoneType"
            ]
          },
          "metadata": {},
          "execution_count": 32
        }
      ]
    },
    {
      "cell_type": "markdown",
      "source": [
        "#타입변환"
      ],
      "metadata": {
        "id": "fxLLCTEeGz67"
      }
    },
    {
      "cell_type": "markdown",
      "source": [
        "####정수-실수"
      ],
      "metadata": {
        "id": "hYMmazpOHmeu"
      }
    },
    {
      "cell_type": "code",
      "source": [
        "a = 1\n",
        "float(a)"
      ],
      "metadata": {
        "colab": {
          "base_uri": "https://localhost:8080/"
        },
        "id": "CJHl7mDaG3K0",
        "outputId": "04625082-cd4f-4be4-840a-836b06a614aa"
      },
      "execution_count": null,
      "outputs": [
        {
          "output_type": "execute_result",
          "data": {
            "text/plain": [
              "1.0"
            ]
          },
          "metadata": {},
          "execution_count": 39
        }
      ]
    },
    {
      "cell_type": "markdown",
      "source": [
        "####실수-정수"
      ],
      "metadata": {
        "id": "qLFoskoiHpOv"
      }
    },
    {
      "cell_type": "code",
      "source": [
        "b = 3.99\n",
        "int(b)"
      ],
      "metadata": {
        "colab": {
          "base_uri": "https://localhost:8080/"
        },
        "id": "aTniQarEHRWh",
        "outputId": "df4a9615-776c-4dc7-94a4-4a892c5751db"
      },
      "execution_count": null,
      "outputs": [
        {
          "output_type": "execute_result",
          "data": {
            "text/plain": [
              "3"
            ]
          },
          "metadata": {},
          "execution_count": 38
        }
      ]
    },
    {
      "cell_type": "markdown",
      "source": [
        "####불-정수"
      ],
      "metadata": {
        "id": "OdBys9GsHsjX"
      }
    },
    {
      "cell_type": "code",
      "source": [
        "c = True\n",
        "int(c)"
      ],
      "metadata": {
        "colab": {
          "base_uri": "https://localhost:8080/"
        },
        "id": "QX1c6uOmHavT",
        "outputId": "cf6af43b-9886-4576-8079-29f6ae256461"
      },
      "execution_count": null,
      "outputs": [
        {
          "output_type": "execute_result",
          "data": {
            "text/plain": [
              "1"
            ]
          },
          "metadata": {},
          "execution_count": 41
        }
      ]
    },
    {
      "cell_type": "markdown",
      "source": [
        "####불-실수"
      ],
      "metadata": {
        "id": "mr-__9W_Hwut"
      }
    },
    {
      "cell_type": "code",
      "source": [
        "float(True)"
      ],
      "metadata": {
        "colab": {
          "base_uri": "https://localhost:8080/"
        },
        "id": "syZcyCNQHgdI",
        "outputId": "463f4999-043f-461d-d7bf-a2847d3410f7"
      },
      "execution_count": null,
      "outputs": [
        {
          "output_type": "execute_result",
          "data": {
            "text/plain": [
              "1.0"
            ]
          },
          "metadata": {},
          "execution_count": 40
        }
      ]
    },
    {
      "cell_type": "markdown",
      "source": [
        "####정수-불"
      ],
      "metadata": {
        "id": "baxS5FwnH5gT"
      }
    },
    {
      "cell_type": "code",
      "source": [
        "bool(1)"
      ],
      "metadata": {
        "colab": {
          "base_uri": "https://localhost:8080/"
        },
        "id": "BuuY2CSeHkI_",
        "outputId": "76f0c7c4-590e-4773-ae05-dfe1e66e645c"
      },
      "execution_count": null,
      "outputs": [
        {
          "output_type": "execute_result",
          "data": {
            "text/plain": [
              "True"
            ]
          },
          "metadata": {},
          "execution_count": 43
        }
      ]
    },
    {
      "cell_type": "code",
      "source": [
        "bool(-10)"
      ],
      "metadata": {
        "colab": {
          "base_uri": "https://localhost:8080/"
        },
        "id": "lMysFhmQH_vw",
        "outputId": "b8fdc561-ea0d-4e2f-9a5b-56b854da3717"
      },
      "execution_count": null,
      "outputs": [
        {
          "output_type": "execute_result",
          "data": {
            "text/plain": [
              "True"
            ]
          },
          "metadata": {},
          "execution_count": 44
        }
      ]
    },
    {
      "cell_type": "code",
      "source": [
        "bool(0)"
      ],
      "metadata": {
        "colab": {
          "base_uri": "https://localhost:8080/"
        },
        "id": "uGGQCoq4IDvw",
        "outputId": "6c509ebd-cc53-4f66-b1b4-9551af338f6f"
      },
      "execution_count": null,
      "outputs": [
        {
          "output_type": "execute_result",
          "data": {
            "text/plain": [
              "False"
            ]
          },
          "metadata": {},
          "execution_count": 45
        }
      ]
    }
  ]
}
